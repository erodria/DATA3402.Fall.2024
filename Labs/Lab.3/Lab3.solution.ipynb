{
 "cells": [
  {
   "cell_type": "markdown",
   "metadata": {},
   "source": [
    "# Lab 3\n",
    "\n",
    "In this lab we will become familiar with distributions, histograms, and functional programming. Do not use numpy or any other library for this lab.\n",
    "\n",
    "Before that, lets get setup homework submission and submit your previous lab.  \n",
    "\n",
    "## Working on the Command-line.\n",
    "\n",
    "It is important for you to learn to work on the command line and to be familiar with the Unix environment (e.g. Linux, Mac OS, or Windows Linux Subsystem). We'll go over working on the command-line in detail later in the course.\n",
    "\n",
    "You are required to submit your work in this course via GitHub. Today in class, you will setup everything on the command-line.\n",
    "\n",
    "### Command-line basics\n",
    "\n",
    "There is plenty of material online that will help you figure out how to do various tasks on the command line. Commands you may need to know today:\n",
    "\n",
    "* `ls`: lists the contents of the current directory.\n",
    "* `pwd`: prints the path of the current directory.\n",
    "* `cd <directory>`: changes your current directory to the specified directory.\n",
    "* `cd ..`: changes current directory to the previous directory. Basically steps out of the current directory to the directory containing the current directory.\n",
    "* `mkdir <directory>`: create a new directory with the specified name.\n",
    "* `rmdir <directory>`: removes the specified directory. Note it has to be empty.\n",
    "* `rm <filename>`: deletes the specified file.\n",
    "* `mv <filename 1> <filename 1>`: Moves or renames a file.\n",
    "* `cp <filename 1> <filename 2>`: copies an file. If you just provide a path to a directory, it copies the file into that directory with the same filename. If you specifiy a new filename, the copy has a new name. For example `cp File.1.txt File.2.txt` creates a copy of `File.1.txt` with the name `File.2.txt`. Meanwhile `cp File.1.txt my_directory`, where `my_directory` is a directory, creates a copy of `File.1.txt` in directory `my_directory` with the name `File.1.txt`.\n",
    "\n",
    "For reference, here are some example resources I found by googling:\n",
    "\n",
    "* Paths and Wildcards: https://www.warp.dev/terminus/linux-wildcards\n",
    "* Basic commands like copy: https://kb.iu.edu/d/afsk\n",
    "* General introduction to shell: https://github-pages.ucl.ac.uk/RCPSTrainingMaterials/HPCandHTCusingLegion/2_intro_to_shell.html\n",
    "* Manual pages: https://www.geeksforgeeks.org/linux-man-page-entries-different-types/?ref=ml_lbp\n",
    "* Chaining commands: https://www.geeksforgeeks.org/chaining-commands-in-linux/?ref=ml_lbp\n",
    "* Piping: https://www.geeksforgeeks.org/piping-in-unix-or-linux/\n",
    "* Using sed: https://www.geeksforgeeks.org/sed-command-linux-set-2/?ref=ml_lbp\n",
    "* Various Unix commands: https://www.geeksforgeeks.org/linux-commands/?ref=lbp\n",
    "* Cheat sheets:\n",
    "    * https://www.stationx.net/unix-commands-cheat-sheet/\n",
    "    * https://cheatography.com/davechild/cheat-sheets/linux-command-line/\n",
    "    * https://www.theknowledgeacademy.com/blog/unix-commands-cheat-sheet/\n",
    "    \n",
    "These aren't necessarily the best resources. Feel free to search for better ones. Also, don't forget that Unix has built-in manual pages for all of its commands. Just type `man <command>` at the command prompt. Use the space-bar to scroll through the documentation and \"q\" to exit.\n",
    "\n",
    "\n",
    "### Setup and Submission\n",
    "\n",
    "Our course repository is public. The instructions here aim to have you setup a fork of the course repository. Unfortunately because you are forking a public repo, your fork will have to be public also. \n",
    "\n",
    "You should be familiar with git from the first semester of this course. I assume that you all have github accounts and have setup things to be able to [push to github using ssh](https://docs.github.com/en/github/authenticating-to-github/connecting-to-github-with-ssh). The instuctions here lead you to:\n",
    "\n",
    "We'll overview what you will do before going through step by step instructions.\n",
    "\n",
    "1. Setup:\n",
    "    1. Fork the class repository. Some directions in [fork-a-repo](https://docs.github.com/en/github/getting-started-with-github/fork-a-repo).\n",
    "    1. Create a directory on your personal system where you will keep all course materials.\n",
    "    1. In that directory, clone your fork of the repository.\n",
    "    1. Using `git remote`, set the upstream to be the class repo, so you can pull from the class and push to your fork.\n",
    "\n",
    "1. Submission:\n",
    "    1. Copy your solutions into the appropriate directory (e.g. into `Labs/Lab.2/`) and with appropriate filename `Lab.2.solution.ipynb'.\n",
    "    1. Commit / push your solutions.\n",
    "    1. Grant access to course instructors.\n",
    "\n",
    "Below are step by step instructions with examples (including example directory naming convention). Feel free to modify things as you see fit. \n",
    "\n",
    "#### Setup\n",
    "You should only need to follow this instructions once. Here are some useful git commands:\n",
    "\n",
    "* Git help: `git help`\n",
    "* Git remote help: `git help remote`\n",
    "* Check remote status: `git remote -v`\n",
    "* Add a remote: `git remote add <stream name> <repo URL>`\n",
    "* Add a remove: `git remote remove <stream name>`\n",
    "\n",
    "Steps:\n",
    "1. In a browser, log into GitHub and navigate to the [course repository](https://github.com/UTA-DataScience/DATA3402.Fall.2024).\n",
    "1. On the top right of the page, press the fork button to create a new fork into your own GitHub account.\n",
    "1. After successful fork, you should find the browser showing your fork of the course repository. Use the green \"Code\" button to copy path to the repo into your the clipboard of your computer.\n",
    "1. Open a shell on your personal computer.\n",
    "1. If you have not done so already, create a new directory/folder where you will keep all course material to navigate to it. For example: `mkdir Data-3402` and `cd Data-3402`.\n",
    "1. Clone your fork of the repository using `git clone` followed by the path you copied into your clipboard. (copy/paste)\n",
    "1. Paste the URL to your fork in the worksheet for the TAs and instructors.\n",
    "1. Now go into the directory of your clone (`cd DATA3402.Fall.2024`).\n",
    "1. Type `git remote -v` to see the current setup for fetch and pull.\n",
    "1. Note the URL you see. This should be the same as what you used for your clone for both push and fetch.\n",
    "1. Delete the origin remote using `git remote remove origin`.\n",
    "1. Add the course repo as your remote using `git remote add origin https://github.com/UTA-DataScience/DATA3402.Fall.2024.git`.\n",
    "1. Change the push to point to your fork. This means you will need the URL to your clone we copied earlier and confirmed as the original origin. The command will look something like: `git remote set-url --push origin  https://github.com/XXXXXX/DATA3402.Fall.2024.git`, where XXXXX is your username on GitHub.\n",
    "1. Note that if you setup everything correctly, you now should be able to do `git pull` to get updates from the course repo, and do `git push` to push your commits into your own fork.\n",
    "\n",
    "### Submission\n",
    "These instructions outline how you submit files. Some useful commands:\n",
    "* To add a file to local repository: `git add <file>`.\n",
    "* To commit all changed files into local repository: `git -a -m \"A message\"`. You need to provide some comment when you commit. \n",
    "* To push the commited files from the local repository to GitHub: `git push`.\n",
    "* To get updates from GitHub: `git pull`.\n",
    "\n",
    "Steps:\n",
    "1. To submit your labs, navigate to your clone of your fork of the course repository. \n",
    "1. Use `git pull` to make sure you have the latest updates. \n",
    "1. Make sure your copy of the lab your are working on is in the appropriate place in this clone. That means if you have the file elsewhere, copy it to the same directory in your clone of your fork. \n",
    "1. Note that in order to avoid future conflicts, you should always name your solution differently than the original file in the class repo. For example if your file is still named `Lab.2.ipynb` you should rename it using the `mv` command: `mv Lab.2.ipynb Lab.2.solution.ipynb`. \n",
    "1. Add and files you wish to submit into the repo. For example: `git add Labs/Lab.2/Lab.2.solution.ipynb`\n",
    "1. Commit any changes: `git commit -a -m \"Lab 2 updates\"`\n",
    "1. Push your changes: `git push`\n",
    "1. Check on github website that your solutions have been properly submitted.\n",
    "\n",
    "Before you leave the session today, make sure your GitHub Repo is setup. If you need to work further on your lab, navigate jupyter to the copy of the lab you just submitted and work there. Once done, repeat the commit and push commands to submit your updated solution. Note that lab 2 is due by midnight Monday 9/8/2024.\n"
   ]
  },
  {
   "cell_type": "markdown",
   "metadata": {},
   "source": [
    "### Uniform Distribution\n",
    "Lets start with generating some fake random data. You can get a random number between 0 and 1 using the python random module as follow:"
   ]
  },
  {
   "cell_type": "code",
   "execution_count": 1,
   "metadata": {},
   "outputs": [
    {
     "name": "stdout",
     "output_type": "stream",
     "text": [
      "The Value of x is 0.8756367007792679\n"
     ]
    }
   ],
   "source": [
    "import random\n",
    "x=random.random()\n",
    "print(\"The Value of x is\", x)"
   ]
  },
  {
   "cell_type": "markdown",
   "metadata": {},
   "source": [
    "Everytime you call random, you will get a new number.\n",
    "\n",
    "*Exercise 1:* Using random, write a function `generate_uniform(N, mymin, mymax)`, that returns a python list containing N random numbers between specified minimum and maximum value. Note that you may want to quickly work out on paper how to turn numbers between 0 and 1 to between other values. "
   ]
  },
  {
   "cell_type": "code",
   "execution_count": 2,
   "metadata": {},
   "outputs": [],
   "source": [
    "# Skeleton\n",
    "def generate_uniform(N,x_min,x_max):\n",
    "    out = []\n",
    "    ### BEGIN SOLUTION\n",
    "    for _ in range(N):\n",
    "        #scale the random number\n",
    "        x_new = x_min + x * (x_max- x_min)\n",
    "        out.append(x_new)\n",
    "    # Fill in your solution here        \n",
    "    \n",
    "    ### END SOLUTION\n",
    "    return out"
   ]
  },
  {
   "cell_type": "code",
   "execution_count": 3,
   "metadata": {},
   "outputs": [
    {
     "name": "stdout",
     "output_type": "stream",
     "text": [
      "Data Type: <class 'list'>\n",
      "Data Length: 1000\n",
      "Type of Data Contents: <class 'float'>\n",
      "Data Minimum: 7.512734015585359\n",
      "Data Maximum: 7.512734015585359\n"
     ]
    }
   ],
   "source": [
    "# Test your solution here\n",
    "data=generate_uniform(1000,-10,10)\n",
    "print (\"Data Type:\", type(data))\n",
    "print (\"Data Length:\", len(data))\n",
    "if len(data)>0: \n",
    "    print (\"Type of Data Contents:\", type(data[0]))\n",
    "    print (\"Data Minimum:\", min(data))\n",
    "    print (\"Data Maximum:\", max(data))"
   ]
  },
  {
   "cell_type": "markdown",
   "metadata": {},
   "source": [
    "*Exercise 2a:* \n",
    "Write a function that computes the mean of values in a list. Recall the equation for the mean of a random variable $\\bf{x}$ computed on a data set of $n$ values $\\{ x_i \\} = \\{x_1, x_2, ..., x_n\\}$  is ${\\bf\\bar{x}} = \\frac{1}{n} \\sum_i^n x_i$."
   ]
  },
  {
   "cell_type": "code",
   "execution_count": 4,
   "metadata": {},
   "outputs": [],
   "source": [
    "# COMPUTING THE MEAN\n",
    "#Skeleton\n",
    "def mean(data):\n",
    "    m=0.\n",
    "    \n",
    "    \n",
    "    #calculate the sum of all elements\n",
    "    m = sum(data) / len(data)      \n",
    "    \n",
    "    ### END SOLUTION\n",
    "    \n",
    "    return m"
   ]
  },
  {
   "cell_type": "code",
   "execution_count": 5,
   "metadata": {},
   "outputs": [
    {
     "name": "stdout",
     "output_type": "stream",
     "text": [
      "Mean of Data: 7.512734015585359\n"
     ]
    }
   ],
   "source": [
    "# Test your solution here\n",
    "print (\"Mean of Data:\", mean(data))"
   ]
  },
  {
   "cell_type": "markdown",
   "metadata": {},
   "source": [
    "*Exercise 2b:* \n",
    "Write a function that computes the variance of values in a list. Recall the equation for the variance of a random variable $\\bf{x}$ computed on a data set of $n$ values $\\{ x_i \\} = \\{x_1, x_2, ..., x_n\\}$  is ${\\bf\\langle x \\rangle} = \\frac{1}{n} \\sum_i^n (x_i - {\\bf\\bar{x}})$."
   ]
  },
  {
   "cell_type": "code",
   "execution_count": 6,
   "metadata": {},
   "outputs": [],
   "source": [
    "# COMPUTING THE VARIANCE\n",
    "#Skeleton\n",
    "def variance(data):\n",
    "    m=0\n",
    "    \n",
    "    \n",
    "    ### BEGIN SOLUTION\n",
    "    mean_val = sum(data) / len(data)\n",
    "    \n",
    "    # Fill in your solution here \n",
    "    variance_sum = 0\n",
    "    for x in data:\n",
    "        variance_sum += (x - mean_val) **2\n",
    "        \n",
    "    m = variance_sum / (len(data) - 1)\n",
    "    \n",
    "    ### END SOLUTION\n",
    "    \n",
    "    return m"
   ]
  },
  {
   "cell_type": "code",
   "execution_count": 7,
   "metadata": {},
   "outputs": [
    {
     "name": "stdout",
     "output_type": "stream",
     "text": [
      "Variance of Data: 0.0\n"
     ]
    }
   ],
   "source": [
    "# Test your solution here\n",
    "print (\"Variance of Data:\", variance(data))"
   ]
  },
  {
   "cell_type": "markdown",
   "metadata": {},
   "source": [
    "## Histogramming"
   ]
  },
  {
   "cell_type": "markdown",
   "metadata": {},
   "source": [
    "*Exercise 3:* Write a function that bins the data so that you can create a histogram. An example of how to implement histogramming is the following logic:\n",
    "\n",
    "* User inputs a list of values `x` and optionally `n_bins` which defaults to 10.\n",
    "* If not supplied, find the minimum and maximum (`x_min`,`x_max`) of the values in x.\n",
    "* Determine the bin size (`bin_size`) by dividing the range of the function by the number of bins.\n",
    "* Create an empty list of zeros of size `n_bins`, call it `hist`.\n",
    "* Loop over the values in `x`\n",
    "    * Loop over the values in `hist` with index `i`:\n",
    "        * If x is between `x_min+i*bin_size` and `x_min+(i+1)*bin_size`, increment `hist[i].` \n",
    "        * For efficiency, try to use continue to goto the next bin and data point.\n",
    "* Return `hist` and the list corresponding of the bin edges (i.e. of `x_min+i*bin_size`).    "
   ]
  },
  {
   "cell_type": "code",
   "execution_count": 8,
   "metadata": {},
   "outputs": [],
   "source": [
    "# Solution\n",
    "def histogram(x,n_bins=10,x_min=None,x_max=None):\n",
    "    ### BEGIN SOLUTION\n",
    "    \n",
    "    #calculating min and max if it's not provided\n",
    "    if x_min is None:\n",
    "        x_min = min(x)\n",
    "        \n",
    "    if x_max is None:\n",
    "        x_max = max(x)\n",
    "    \n",
    "    # Fill in your solution here \n",
    "    # calculate th range and bin size and edges\n",
    "    bin_size = (x_max - x_min) / n_bins\n",
    "    bin_edges = [] #initialize empty list\n",
    "    \n",
    "    ##creating bin edges by adding the start of each bin\n",
    "    for i in range(n_bins):\n",
    "        edge = x_min + i *bin_size\n",
    "        bin_edges.append(edge) #appending the edge to bin_edges\n",
    "    #append the last bin edge\n",
    "    bin_edges.append(x_max)\n",
    "    \n",
    "    #initializing the hist list of bins \n",
    "    hist = [0] * n_bins #list stores the count for each bin\n",
    "    \n",
    "    for d in x:\n",
    "        for i, (low_edge, high_edge) in enumerate(zip(bin_edges[:-1], bin_edges[1:])):\n",
    "            if low_edge <= d < high_edge:  # Ensure values fall between the bin edges\n",
    "                hist[i] += 1\n",
    "                break\n",
    "                \n",
    "    ### END SOLUTION\n",
    "\n",
    "    return hist,bin_edges"
   ]
  },
  {
   "cell_type": "code",
   "execution_count": 9,
   "metadata": {},
   "outputs": [
    {
     "name": "stdout",
     "output_type": "stream",
     "text": [
      "[0, 0, 0, 0, 0, 0, 0, 0, 0, 0, 0, 0, 0, 0, 0, 0, 0, 0, 0, 0, 0, 0, 0, 0, 0, 0, 0, 0, 0, 0, 0, 0, 0, 0, 0, 0, 0, 0, 0, 0, 0, 0, 0, 0, 0, 0, 0, 0, 0, 0, 0, 0, 0, 0, 0, 0, 0, 0, 0, 0, 0, 0, 0, 0, 0, 0, 0, 0, 0, 0, 0, 0, 0, 0, 0, 0, 0, 0, 0, 0, 0, 0, 0, 0, 0, 0, 0, 0, 0, 0, 0, 0, 0, 0, 0, 0, 0, 0, 0, 0]\n"
     ]
    }
   ],
   "source": [
    "# Test your solution here\n",
    "h,b=histogram(data,100)\n",
    "print(h)"
   ]
  },
  {
   "cell_type": "markdown",
   "metadata": {},
   "source": [
    "*Exercise 4:* Write a function that uses the histogram function in the previous exercise to create a text-based \"graph\". For example the output could look like the following:\n",
    "```\n",
    "[  0,  1] : ######\n",
    "[  1,  2] : #####\n",
    "[  2,  3] : ######\n",
    "[  3,  4] : ####\n",
    "[  4,  5] : ####\n",
    "[  5,  6] : ######\n",
    "[  6,  7] : #####\n",
    "[  7,  8] : ######\n",
    "[  8,  9] : ####\n",
    "[  9, 10] : #####\n",
    "```\n",
    "\n",
    "Where each line corresponds to a bin and the number of `#`'s are proportional to the value of the data in the bin. "
   ]
  },
  {
   "cell_type": "code",
   "execution_count": 10,
   "metadata": {},
   "outputs": [
    {
     "name": "stdout",
     "output_type": "stream",
     "text": [
      "[1.0, 1.8] : ####################\n",
      "[1.8, 2.6] : ####################\n",
      "[2.6, 3.4] : ####################\n",
      "[3.4, 4.2] : ##########\n",
      "[4.2, 5.0] : ####################\n",
      "[5.0, 5.8] : ####################\n",
      "[5.8, 6.6] : ##########\n",
      "[6.6, 7.4] : ##########\n",
      "[7.4, 8.2] : ##########\n",
      "[8.2, 9.0] : ##########\n"
     ]
    }
   ],
   "source": [
    "# Solution\n",
    "def draw_histogram(x, n_bins=10, x_min=None, x_max=None, character=\"#\", max_character_per_line=20):\n",
    "    ### BEGIN SOLUTION\n",
    "    \n",
    "    # Use the histogram function to get the bin counts and edges\n",
    "    hist, bin_edges = histogram(x, n_bins, x_min, x_max)\n",
    "    \n",
    "    # Find the maximum bin count to scale the graph\n",
    "    max_count = max(hist)\n",
    "    \n",
    "    # Generate the graph\n",
    "    for i in range(n_bins):\n",
    "        # Calculate the number of characters for this bin, proportional to its count\n",
    "        bin_count = hist[i]\n",
    "        scaled_count = int((bin_count / max_count) * max_character_per_line)\n",
    "        \n",
    "        # Print the bin range and the corresponding bar made of characters\n",
    "        bin_range_min = bin_edges[i]\n",
    "        bin_range_max = bin_edges[i+1]\n",
    "        print(f\"[{bin_range_min:.1f}, {bin_range_max:.1f}] : {character * scaled_count}\")\n",
    "    \n",
    "    # Return the histogram counts and the bin edges\n",
    "    return hist, bin_edges\n",
    "\n",
    "\n",
    "def histogram(x, n_bins=10, x_min=None, x_max=None):\n",
    "    ### BEGIN SOLUTION\n",
    "    \n",
    "    # Calculating min and max if it's not provided\n",
    "    if x_min is None:\n",
    "        x_min = min(x)\n",
    "        \n",
    "    if x_max is None:\n",
    "        x_max = max(x)\n",
    "    \n",
    "    #Calculate the range, bin size, and bin edges\n",
    "    bin_size = (x_max - x_min) / n_bins\n",
    "    bin_edges = []  # Initialize an empty list\n",
    "    \n",
    "    # Creating bin edges by adding the start of each bin\n",
    "    for i in range(n_bins):\n",
    "        edge = x_min + i * bin_size\n",
    "        bin_edges.append(edge)  #Appending the edge to bin_edges\n",
    "        \n",
    "    #appending the last bin edge\n",
    "    bin_edges.append(x_max)\n",
    "    \n",
    "    hist = [0] * n_bins  #list stores the count for each bin\n",
    "    \n",
    "    for d in x:\n",
    "        for i, (low_edge, high_edge) in enumerate(zip(bin_edges[:-1], bin_edges[1:])):\n",
    "            #making sure values fall between the bin edges\n",
    "            if low_edge <= d < high_edge:  \n",
    "                hist[i] += 1\n",
    "                break\n",
    "        #if value is the maximum, it should be the last bin\n",
    "        if d == x_max:\n",
    "            hist[-1] += 1\n",
    "\n",
    "    ### END SOLUTION\n",
    "\n",
    "    return hist, bin_edges\n",
    "\n",
    "# Example usage\n",
    "data = [1.5, 2.3, 2.9, 3.1, 4.8, 4.9, 5.5, 6.7, 7.8, 9.0, 1.0, 2.0, 3.5, 5.2, 5.9]\n",
    "hist, bin_edges = draw_histogram(data, n_bins=10)"
   ]
  },
  {
   "cell_type": "code",
   "execution_count": 11,
   "metadata": {},
   "outputs": [],
   "source": [
    "# Test your solution here\n",
    "h,b=histogram(data,n_bins=10)"
   ]
  },
  {
   "cell_type": "markdown",
   "metadata": {},
   "source": [
    "## Functional Programming\n",
    "\n",
    "*Exercise 5:* Write a function the applies a booling function (that returns true/false) to every element in data, and return a list of indices of elements where the result was true. Use this function to find the indices of entries greater than 0.5. "
   ]
  },
  {
   "cell_type": "code",
   "execution_count": 12,
   "metadata": {},
   "outputs": [],
   "source": [
    "def where(mylist,myfunc):\n",
    "    out= []\n",
    "    \n",
    "    ### BEGIN SOLUTION\n",
    "\n",
    "    # Fill in your solution here        \n",
    "    #iterate over the list using enumerate to get both the index and the value\n",
    "    for index, value in enumerate(mylist):\n",
    "        if myfunc(value):  #apply function to each element\n",
    "            out.append(index)  #append the index if the function returns True\n",
    "    \n",
    "    ### END SOLUTION\n",
    "    \n",
    "    return out\n",
    "#apply bool function to check if a value is greater than 0.5\n",
    "def greater_than_half(x):\n",
    "    return x > 0.5"
   ]
  },
  {
   "cell_type": "code",
   "execution_count": 13,
   "metadata": {},
   "outputs": [
    {
     "name": "stdout",
     "output_type": "stream",
     "text": [
      "Indices where values are greater than 0.5: [1, 3]\n"
     ]
    }
   ],
   "source": [
    "# Test your solution here\n",
    "data = [0.1, 0.7, 0.4, 0.9, 0.2]\n",
    "indices = where(data, greater_than_half)\n",
    "\n",
    "# Print the result\n",
    "print(\"Indices where values are greater than 0.5:\", indices)"
   ]
  },
  {
   "cell_type": "markdown",
   "metadata": {},
   "source": [
    "*Exercise 6:* The `inrange(mymin,mymax)` function below returns a function that tests if it's input is between the specified values. Write corresponding functions that test:\n",
    "* Even\n",
    "* Odd\n",
    "* Greater than\n",
    "* Less than\n",
    "* Equal\n",
    "* Divisible by"
   ]
  },
  {
   "cell_type": "code",
   "execution_count": 14,
   "metadata": {},
   "outputs": [
    {
     "name": "stdout",
     "output_type": "stream",
     "text": [
      "True True False False False\n",
      "False False True True False\n",
      "Number of Entries passing F1: 5\n",
      "Number of Entries passing F2: 0\n"
     ]
    }
   ],
   "source": [
    "def in_range(mymin,mymax):\n",
    "    def testrange(x):\n",
    "        return x<mymax and x>=mymin\n",
    "    return testrange\n",
    "\n",
    "# Examples:\n",
    "F1=in_range(0,10)\n",
    "F2=in_range(10,20)\n",
    "\n",
    "# Test of in_range\n",
    "print (F1(0), F1(1), F1(10), F1(15), F1(20))\n",
    "print (F2(0), F2(1), F2(10), F2(15), F2(20))\n",
    "\n",
    "print (\"Number of Entries passing F1:\", len(where(data,F1)))\n",
    "print (\"Number of Entries passing F2:\", len(where(data,F2)))"
   ]
  },
  {
   "cell_type": "code",
   "execution_count": 15,
   "metadata": {},
   "outputs": [
    {
     "name": "stdout",
     "output_type": "stream",
     "text": [
      "True True False False False\n",
      "False False True True False\n"
     ]
    }
   ],
   "source": [
    "def in_range(mymin, mymax):\n",
    "    def testrange(x):\n",
    "        return x < mymax and x >= mymin\n",
    "    return testrange\n",
    "\n",
    "#even func\n",
    "def is_even():\n",
    "    def testeven(x):\n",
    "        return x % 2 == 0\n",
    "    return testeven\n",
    "\n",
    "#odd function\n",
    "def is_odd():\n",
    "    def testodd(x):\n",
    "        return x % 2 != 0\n",
    "    return testodd\n",
    "\n",
    "#greater than func\n",
    "def greater_than(threshold):\n",
    "    def testgreater(x):\n",
    "        return x > threshold\n",
    "    return testgreater\n",
    "\n",
    "#less than func\n",
    "def less_than(threshold):\n",
    "    def testless(x):\n",
    "        return x < threshold\n",
    "    return testless\n",
    "\n",
    "#is equal to func \n",
    "def is_equal_to(value):\n",
    "    def testequal(x):\n",
    "        return x == value\n",
    "    return testequal\n",
    "\n",
    "#divisible func\n",
    "def divisible_by(divisor):\n",
    "    def testdivisible(x):\n",
    "        return x % divisor == 0\n",
    "    return testdivisible\n",
    "\n",
    "#example usage of the in_range function\n",
    "F1 = in_range(0, 10)\n",
    "F2 = in_range(10, 20)\n",
    "\n",
    "#test of in_range\n",
    "print(F1(0), F1(1), F1(10), F1(15), F1(20))  \n",
    "print(F2(0), F2(1), F2(10), F2(15), F2(20))\n"
   ]
  },
  {
   "cell_type": "code",
   "execution_count": 16,
   "metadata": {},
   "outputs": [
    {
     "name": "stdout",
     "output_type": "stream",
     "text": [
      "Number of Entries passing F1: 10\n",
      "Number of Entries passing F2: 10\n",
      "Even numbers: [0, 2, 4, 6, 8, 10, 12, 14, 16, 18]\n",
      "Odd numbers: [1, 3, 5, 7, 9, 11, 13, 15, 17, 19]\n",
      "Numbers greater than 5: [6, 7, 8, 9, 10, 11, 12, 13, 14, 15, 16, 17, 18, 19]\n",
      "Numbers less than 10: [0, 1, 2, 3, 4, 5, 6, 7, 8, 9]\n",
      "Numbers equal to 7: [7]\n",
      "Numbers divisible by 3: [0, 3, 6, 9, 12, 15, 18]\n"
     ]
    }
   ],
   "source": [
    "#testing solution\n",
    "data = [0, 1, 2, 3, 4, 5, 6, 7, 8, 9, 10, 11, 12, 13, 14, 15, 16, 17, 18, 19]\n",
    "\n",
    "#'where' func to filter data\n",
    "print(\"Number of Entries passing F1:\", len(where(data, F1)))\n",
    "print(\"Number of Entries passing F2:\", len(where(data, F2)))\n",
    "\n",
    "\n",
    "even_test = is_even()\n",
    "odd_test = is_odd()\n",
    "greater_test = greater_than(5)\n",
    "less_test = less_than(10)\n",
    "equal_test = is_equal_to(7)\n",
    "divisible_test = divisible_by(3)\n",
    "\n",
    "print(\"Even numbers:\", where(data, even_test))   #even numbers\n",
    "print(\"Odd numbers:\", where(data, odd_test))     #odd numbers\n",
    "print(\"Numbers greater than 5:\", where(data, greater_test))   # numbers greater than 5\n",
    "print(\"Numbers less than 10:\", where(data, less_test))        #numbers less than 10\n",
    "print(\"Numbers equal to 7:\", where(data, equal_test))         #number equal to 7\n",
    "print(\"Numbers divisible by 3:\", where(data, divisible_test)) #numbers divisible by 3\n"
   ]
  },
  {
   "cell_type": "markdown",
   "metadata": {},
   "source": [
    "*Exercise 7:* Repeat the previous exercise using `lambda` and the built-in python functions sum and map instead of your solution above. "
   ]
  },
  {
   "cell_type": "code",
   "execution_count": 17,
   "metadata": {},
   "outputs": [],
   "source": [
    "def where(mylist, myfunc):\n",
    "    return [i for i, val in enumerate(mylist) if myfunc(val)]\n",
    "\n",
    "#using lambdas\n",
    "\n",
    "in_range = lambda mymin, mymax: lambda x: mymin <= x < mymax\n",
    "is_even = lambda: lambda x: x % 2 == 0\n",
    "is_odd = lambda: lambda x: x % 2 != 0\n",
    "greater_than = lambda threshold: lambda x: x > threshold\n",
    "less_than = lambda threshold: lambda x: x < threshold\n",
    "is_equal_to = lambda value: lambda x: x == value\n",
    "divisible_by = lambda divisor: lambda x: x % divisor == 0      \n"
   ]
  },
  {
   "cell_type": "code",
   "execution_count": 18,
   "metadata": {},
   "outputs": [
    {
     "name": "stdout",
     "output_type": "stream",
     "text": [
      "Number of Entries passing F1: 10\n",
      "Number of Entries passing F2: 10\n",
      "Even numbers: [0, 2, 4, 6, 8, 10, 12, 14, 16, 18]\n",
      "Odd numbers: [1, 3, 5, 7, 9, 11, 13, 15, 17, 19]\n",
      "Numbers greater than 5: [6, 7, 8, 9, 10, 11, 12, 13, 14, 15, 16, 17, 18, 19]\n",
      "Numbers less than 10: [0, 1, 2, 3, 4, 5, 6, 7, 8, 9]\n",
      "Numbers equal to 7: [7]\n",
      "Numbers divisible by 3: [0, 3, 6, 9, 12, 15, 18]\n"
     ]
    }
   ],
   "source": [
    "#testing solution\n",
    "data = [0, 1, 2, 3, 4, 5, 6, 7, 8, 9, 10, 11, 12, 13, 14, 15, 16, 17, 18, 19]\n",
    "\n",
    "#'where' func to filter data\n",
    "print(\"Number of Entries passing F1:\", len(where(data, F1)))\n",
    "print(\"Number of Entries passing F2:\", len(where(data, F2)))\n",
    "\n",
    "\n",
    "even_test = is_even()\n",
    "odd_test = is_odd()\n",
    "greater_test = greater_than(5)\n",
    "less_test = less_than(10)\n",
    "equal_test = is_equal_to(7)\n",
    "divisible_test = divisible_by(3)\n",
    "\n",
    "print(\"Even numbers:\", where(data, even_test))   #even numbers\n",
    "print(\"Odd numbers:\", where(data, odd_test))     #odd numbers\n",
    "print(\"Numbers greater than 5:\", where(data, greater_test))   # numbers greater than 5\n",
    "print(\"Numbers less than 10:\", where(data, less_test))        #numbers less than 10\n",
    "print(\"Numbers equal to 7:\", where(data, equal_test))         #number equal to 7\n",
    "print(\"Numbers divisible by 3:\", where(data, divisible_test)) #numbers divisible by 3\n"
   ]
  },
  {
   "cell_type": "markdown",
   "metadata": {},
   "source": [
    "## Monte Carlo\n",
    "\n",
    "*Exercise 7:* Write a \"generator\" function called `generate_function(func,x_min,x_max,N)`, that instead of generating a flat distribution, generates a distribution with functional form coded in `func`. Note that `func` will always be > 0.  \n",
    "\n",
    "Use the test function below and your histogramming functions above to demonstrate that your generator is working properly.\n",
    "\n",
    "Hint: A simple, but slow, solution is to a draw random number `test_x` within the specified range and another number `p` between the `min` and `max` of the function (which you will have to determine). If `p<=function(test_x)`, then place `test_x` on the output. If not, repeat the process, drawing two new numbers. Repeat until you have the specified number of generated numbers, `N`. For this problem, it's OK to determine the `min` and `max` by numerically sampling the function.  "
   ]
  },
  {
   "cell_type": "code",
   "execution_count": 19,
   "metadata": {},
   "outputs": [],
   "source": [
    "def generate_function(func,x_min,x_max,N=1000):\n",
    "    out = list()\n",
    "    num_samples = 1000  \n",
    "    max_func_value = max(func(x_min + i * (x_max - x_min) / num_samples) for i in range(num_samples))\n",
    "    \n",
    "    while len(out) < N:\n",
    "        test_x = random.uniform(x_min, x_max)  # Random x between x_min and x_max\n",
    "        p = random.uniform(0, max_func_value)  # Random p between 0 and max_func_value\n",
    "\n",
    "        if p <= func(test_x):  # If the random p is less than or equal to the function value at test_x\n",
    "            out.append(test_x)  # Accept test_x and add to the output list\n",
    "    \n",
    "    return out"
   ]
  },
  {
   "cell_type": "code",
   "execution_count": 20,
   "metadata": {},
   "outputs": [],
   "source": [
    "# A test function\n",
    "def test_func(x,a=1,b=1):\n",
    "    return abs(a*x+b)"
   ]
  },
  {
   "cell_type": "markdown",
   "metadata": {},
   "source": [
    "*Exercise 8:* Use your function to generate 1000 numbers that are normal distributed, using the `gaussian` function below. Confirm the mean and variance of the data is close to the mean and variance you specify when building the Gaussian. Histogram the data. "
   ]
  },
  {
   "cell_type": "code",
   "execution_count": 21,
   "metadata": {},
   "outputs": [
    {
     "name": "stdout",
     "output_type": "stream",
     "text": [
      "Generated from g1 (mean=0, sigma=1):\n",
      "Calculated Mean: 0.01\n",
      "Calculated Variance: 1.01\n",
      "\n",
      "Generated from g2 (mean=10, sigma=3):\n",
      "Calculated Mean: 9.59\n",
      "Calculated Variance: 37.99\n"
     ]
    }
   ],
   "source": [
    "import math\n",
    "import random\n",
    "\n",
    "def gaussian(mean, sigma):\n",
    "    def f(x):\n",
    "        return math.exp(-((x-mean)**2)/(2*sigma**2))/math.sqrt(math.pi*sigma)\n",
    "    return f\n",
    "\n",
    "# Example Instantiation\n",
    "g1=gaussian(0,1)\n",
    "g2=gaussian(10,3)\n",
    "\n",
    "\n",
    "def generate_gaussian(g, N=1000):\n",
    "    out = []\n",
    "    max_func_value = g(0)  #maximum value of Gaussian function\n",
    "\n",
    "    while len(out) < N:\n",
    "        test_x = random.uniform(-10, 20)  # x within range for both g1 and g2\n",
    "        p = random.uniform(0, max_func_value) \n",
    "        \n",
    "        if p <= g(test_x):  # if our value is under the Gaussian curve\n",
    "            out.append(test_x)\n",
    "\n",
    "    return out\n",
    "\n",
    "generated_data_g1 = generate_gaussian(g1, N=1000)\n",
    "\n",
    "#Calculate mean and variance of data from g1\n",
    "calculated_mean_g1 = sum(generated_data_g1) / len(generated_data_g1)\n",
    "calculated_variance_g1 = sum((x - calculated_mean_g1) ** 2 for x in generated_data_g1) / len(generated_data_g1)\n",
    "\n",
    "\n",
    "print(f\"Generated from g1 (mean=0, sigma=1):\")\n",
    "print(f\"Calculated Mean: {calculated_mean_g1:.2f}\")\n",
    "print(f\"Calculated Variance: {calculated_variance_g1:.2f}\")\n",
    "\n",
    "\n",
    "generated_data_g2 = generate_gaussian(g2, N=1000)\n",
    "\n",
    "#Calculate mean and variance data from g2\n",
    "calculated_mean_g2 = sum(generated_data_g2) / len(generated_data_g2)\n",
    "calculated_variance_g2 = sum((x - calculated_mean_g2) ** 2 for x in generated_data_g2) / len(generated_data_g2)\n",
    "\n",
    "\n",
    "print(f\"\\nGenerated from g2 (mean=10, sigma=3):\")\n",
    "print(f\"Calculated Mean: {calculated_mean_g2:.2f}\")\n",
    "print(f\"Calculated Variance: {calculated_variance_g2:.2f}\")"
   ]
  },
  {
   "cell_type": "markdown",
   "metadata": {},
   "source": [
    "*Exercise 9:* Combine your `generate_function`, `where`, and `in_range` functions above to create an integrate function. Use your integrate function to show that approximately 68% of Normal distribution is within one variance."
   ]
  },
  {
   "cell_type": "code",
   "execution_count": 22,
   "metadata": {},
   "outputs": [],
   "source": [
    "def integrate(func, x_min, x_max, n_points=1000):\n",
    "    \n",
    "    return integral"
   ]
  },
  {
   "cell_type": "code",
   "execution_count": null,
   "metadata": {},
   "outputs": [],
   "source": []
  }
 ],
 "metadata": {
  "kernelspec": {
   "display_name": "Python 3 (ipykernel)",
   "language": "python",
   "name": "python3"
  },
  "language_info": {
   "codemirror_mode": {
    "name": "ipython",
    "version": 3
   },
   "file_extension": ".py",
   "mimetype": "text/x-python",
   "name": "python",
   "nbconvert_exporter": "python",
   "pygments_lexer": "ipython3",
   "version": "3.12.3"
  }
 },
 "nbformat": 4,
 "nbformat_minor": 2
}
