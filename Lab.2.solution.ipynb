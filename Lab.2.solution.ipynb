{
 "cells": [
  {
   "cell_type": "markdown",
   "metadata": {},
   "source": [
    "## Lab 2- Tic Tac Toe\n",
    "\n",
    "In this lab your will build a n x n Tic Tac Toe game. As you do the exercises, make sure your solutions work for any size Tic Tac Toe game. "
   ]
  },
  {
   "cell_type": "markdown",
   "metadata": {},
   "source": [
    "*Exercise 1:* Write a function that creates an n by n matrix (of list of lists) which will represent the state of a Tie Tac Toe game. Let 0, 1, and 2 represent empty, \"X\", and \"O\", respectively.\n"
   ]
  },
  {
   "cell_type": "code",
   "execution_count": 1,
   "metadata": {},
   "outputs": [],
   "source": [
    "#board starts off empty\n",
    "#write a function that creats an n by n matrix (list of lists) \n",
    "def creating_matrix(n): #n is the size of the board (n*n) \n",
    "    board = [] #initializing the board to store the rows \n",
    "    for i in range(n): #iterates i from 0 to n-1, represents each row index of the board\n",
    "        row = [0] * n #creating a list with n zeros to represent a row\n",
    "        board.append(row) # appends the row (which is filled with zeros) to the board\n",
    "    \n",
    "    return board\n"
   ]
  },
  {
   "cell_type": "code",
   "execution_count": 2,
   "metadata": {},
   "outputs": [
    {
     "data": {
      "text/plain": [
       "[[0, 0, 0], [0, 0, 0], [0, 0, 0]]"
      ]
     },
     "execution_count": 2,
     "metadata": {},
     "output_type": "execute_result"
    }
   ],
   "source": [
    "# Test your solution here\n",
    "n=3\n",
    "board =creating_matrix(n)\n",
    "board"
   ]
  },
  {
   "cell_type": "markdown",
   "metadata": {},
   "source": [
    "*Exercise 2:* Write a function that takes 2 integers `n` and `m` as input and draws a `n` by `m` game board. For example the following is a 3x3 board:\n",
    "```\n",
    "   --- --- --- \n",
    "  |   |   |   | \n",
    "   --- --- ---  \n",
    "  |   |   |   | \n",
    "   --- --- ---  \n",
    "  |   |   |   | \n",
    "   --- --- --- \n",
    "   ```\n",
    "   "
   ]
  },
  {
   "cell_type": "code",
   "execution_count": 3,
   "metadata": {},
   "outputs": [],
   "source": [
    "# Write you solution here\n",
    "\n",
    "def draw_board(n,m):\n",
    "    for i in range(n):\n",
    "        print(\" \" + \"--- \" * m) # top row\n",
    "        print(\"|   \" * (m + 1)) # vertical bars and spaces\n",
    "    print(\" \" + \"--- \" * m) #bottom row"
   ]
  },
  {
   "cell_type": "code",
   "execution_count": 4,
   "metadata": {},
   "outputs": [
    {
     "name": "stdout",
     "output_type": "stream",
     "text": [
      " --- --- --- \n",
      "|   |   |   |   \n",
      " --- --- --- \n",
      "|   |   |   |   \n",
      " --- --- --- \n",
      "|   |   |   |   \n",
      " --- --- --- \n"
     ]
    }
   ],
   "source": [
    "# Test your solution here\n",
    "draw_board(3,3)"
   ]
  },
  {
   "cell_type": "markdown",
   "metadata": {},
   "source": [
    "*Exercise 3:* Modify exercise 2, so that it takes a matrix of the form from exercise 1 and draws a tic-tac-tie board with \"X\"s and \"O\"s.  "
   ]
  },
  {
   "cell_type": "code",
   "execution_count": 5,
   "metadata": {},
   "outputs": [],
   "source": [
    "# using drawing matrix from the pervious exercices \n",
    "def draw_tictactoe_board(matrix):\n",
    "    n = len(matrix) #number of rows\n",
    "    m = len(matrix[0]) #number of columns \n",
    "    \n",
    "    for i in range(n):\n",
    "        print(\" \" + \"--- \" * m) \n",
    "        row = \"| \"\n",
    "        for j in range(m):\n",
    "            row += matrix[i][j] + \" | \"  # adding X, O's, or empty)\n",
    "        print(row)\n",
    "    print(\" \" + \"--- \" * m)\n"
   ]
  },
  {
   "cell_type": "code",
   "execution_count": 6,
   "metadata": {},
   "outputs": [
    {
     "name": "stdout",
     "output_type": "stream",
     "text": [
      " --- --- --- \n",
      "| O | X | X | \n",
      " --- --- --- \n",
      "| X | O |   | \n",
      " --- --- --- \n",
      "| O | X |   | \n",
      " --- --- --- \n"
     ]
    }
   ],
   "source": [
    "# Test your solution here\n",
    "game_matrix = [[\"O\", \"X\", \"X\"], [\"X\", \"O\", \" \"],[\"O\", \"X\", \" \"]]\n",
    "\n",
    "draw_tictactoe_board(game_matrix)"
   ]
  },
  {
   "cell_type": "markdown",
   "metadata": {},
   "source": [
    "*Exercise 4:* Write a function that takes a `n` by `n` matrix representing a tic-tac-toe game, and returns -1, 0, 1, or 2 indicating the game is incomplete, the game is a draw, player 1 has won, or player 2 has one, respectively. Here are some example inputs you can use to test your code:"
   ]
  },
  {
   "cell_type": "code",
   "execution_count": 7,
   "metadata": {},
   "outputs": [],
   "source": [
    "# checking if game is incomplete, draw, or player 1/2 won\n",
    "\n",
    "def num_board(matrix):\n",
    "    n = len(matrix)\n",
    "    \n",
    "    \n",
    "    for col in range(n): #looping through each column\n",
    "        col_values = [] #empty list for column values\n",
    "        for row in range(n): \n",
    "            col_values.append(matrix[row][col]) #add value to the current row and column\n",
    "        if col_values.count(1) == n:  # player 1 won\n",
    "            return 1\n",
    "        if col_values.count(2) == n:  # player 2 won\n",
    "            return 2\n",
    "\n",
    "    for row in matrix: #checking rows\n",
    "        if row.count(1) == n:  #player 1 won\n",
    "            return 1\n",
    "        if row.count(2) == n:  #player 2 won\n",
    "            return 2\n",
    "    \n",
    "\n",
    "\n",
    "    diagonal = [] \n",
    "    for i in range(n):\n",
    "        diagonal.append(matrix[i][i])\n",
    "    if diagonal.count(1) == n:  #player 1 won\n",
    "        return 1\n",
    "    if diagonal.count(2) == n:  #player 2 won\n",
    "        return 2\n",
    "\n",
    "\n",
    "    opposite_diagonal = [] #check opposite diagonal\n",
    "    for i in range(n):\n",
    "        opposite_diagonal.append(matrix[i][i])\n",
    "    if opposite_diagonal.count(1) == n:  #player 1 won\n",
    "        return 1\n",
    "    if opposite_diagonal.count(2) == n:  #player 2 won\n",
    "        return 2\n",
    "\n",
    "    for row in matrix: #checks if game is incomplete\n",
    "        if 0 in row:  #checks for empty cell\n",
    "            return -1  #game is incomplete\n",
    "\n",
    "    return 0 #no one has won and there are no empty cells, it's a draw\n",
    "\n"
   ]
  },
  {
   "cell_type": "code",
   "execution_count": 8,
   "metadata": {},
   "outputs": [],
   "source": [
    "# Test your solution here"
   ]
  },
  {
   "cell_type": "code",
   "execution_count": 9,
   "metadata": {},
   "outputs": [],
   "source": [
    "winner_is_2 = [[2, 2, 0],\n",
    "\t[2, 1, 0],\n",
    "\t[2, 1, 1]]\n",
    "\n",
    "winner_is_1 = [[1, 2, 0],\n",
    "\t[2, 1, 0],\n",
    "\t[2, 1, 1]]\n",
    "\n",
    "winner_is_also_1 = [[0, 1, 0],\n",
    "\t[2, 1, 0],\n",
    "\t[2, 1, 1]]\n",
    "\n",
    "no_winner = [[1, 2, 0],\n",
    "\t[2, 1, 0],\n",
    "\t[2, 1, 2]]\n",
    "\n",
    "also_no_winner = [[1, 2, 0],\n",
    "\t[2, 1, 0],\n",
    "\t[2, 1, 0]]"
   ]
  },
  {
   "cell_type": "code",
   "execution_count": 10,
   "metadata": {},
   "outputs": [
    {
     "name": "stdout",
     "output_type": "stream",
     "text": [
      "2\n",
      "1\n",
      "1\n",
      "-1\n",
      "-1\n"
     ]
    }
   ],
   "source": [
    "print(num_board(winner_is_2)) \n",
    "print(num_board(winner_is_1))\n",
    "print(num_board(winner_is_also_1))\n",
    "print(num_board(no_winner)) #-1 (incomplete)\n",
    "print(num_board(also_no_winner))"
   ]
  },
  {
   "cell_type": "markdown",
   "metadata": {},
   "source": [
    "*Exercise 5:* Write a function that takes a game board, player number, and `(x,y)` coordinates and places \"X\" or \"O\" in the correct location of the game board. Make sure that you only allow filling previously empty locations. Return `True` or `False` to indicate successful placement of \"X\" or \"O\"."
   ]
  },
  {
   "cell_type": "code",
   "execution_count": 11,
   "metadata": {},
   "outputs": [],
   "source": [
    "# Write you solution here\n",
    "def board_xy(board,player_num, x, y):\n",
    "    if x < 0: #if x is less than 0, out of bounds\n",
    "        return False #false for invalid move \n",
    "    if x>= len(board): #if x is greater than or equal to num of rows, out of bounds\n",
    "        return False \n",
    "    \n",
    "    \n",
    "    if y < 0 : # if y is less than 0, out of bounds\n",
    "        return False\n",
    "    if y >= len(board[0]): # if y >= num of columns, out of bounds\n",
    "        return False\n",
    "    \n",
    "    \n",
    "#checking coordinates \n",
    "    if board[x][y] == 0:\n",
    "        if player_num == 1:\n",
    "            board[x][y] = 1\n",
    "            \n",
    "        elif player_num == 2:\n",
    "            board[x][y] = 2\n",
    "            \n",
    "        return True\n",
    "    else:\n",
    "        return False"
   ]
  },
  {
   "cell_type": "code",
   "execution_count": 12,
   "metadata": {},
   "outputs": [
    {
     "name": "stdout",
     "output_type": "stream",
     "text": [
      "True\n",
      "False\n"
     ]
    }
   ],
   "source": [
    "# testing solution\n",
    "game_board = [[1, 2, 0],\n",
    "              [0, 1, 0],\n",
    "              [2, 1, 0]]\n",
    "\n",
    "print(board_xy(game_board, 1, 0, 2))  # true (valid move)\n",
    "print(board_xy(game_board, 2, 0, 1))  # false (spot already taken)"
   ]
  },
  {
   "cell_type": "markdown",
   "metadata": {},
   "source": [
    "*Exercise 6:* Modify Exercise 4 to show column and row labels so that players can specify location using \"A2\" or \"C1\"."
   ]
  },
  {
   "cell_type": "code",
   "execution_count": 13,
   "metadata": {},
   "outputs": [],
   "source": [
    "def labels_location(move):\n",
    "\n",
    "#convert the letter part (A, B, C) to row index (0, 1, 2)\n",
    "    row_label = move[0].upper()  #convert to uppercase to handle \"a\" or \"A\"\n",
    "    if row_label == \"A\":\n",
    "        row = 0\n",
    "    elif row_label == \"B\":\n",
    "        row = 1\n",
    "    elif row_label == \"C\":\n",
    "        row = 2\n",
    "    else:\n",
    "        return None, None  # invalid row label\n",
    "    \n",
    "#convert the number part (1, 2, 3) to column index (0, 1, 2)\n",
    "    col_label = move[1]\n",
    "    if col_label == \"1\":\n",
    "        col = 0\n",
    "    elif col_label == \"2\":\n",
    "        col = 1\n",
    "    elif col_label == \"3\":\n",
    "        col = 2\n",
    "    else:\n",
    "        return None, None  #invalid column label\n",
    "    \n",
    "    return row, col\n",
    "\n",
    "def place_labels(board, player, move):\n",
    "    row, col = labels_location(move) # convert move to board indices\n",
    "\n",
    "    if row is None or col is None:\n",
    "        print(\"Invalid move. Enter a valid move (such as A1, B2,C3).\")\n",
    "        return False\n",
    "    \n",
    "#checke if spot in empty\n",
    "    if board[row][col] == 0:  # 0 equals an empty spot\n",
    "        board[row][col] = player  #placing \"X\" (1) or \"O\" (2) based on the player\n",
    "        return True  #placement worked\n",
    "    else:\n",
    "        print(\"Spot already taken.\")\n",
    "        return False  #spot is taken already\n"
   ]
  },
  {
   "cell_type": "code",
   "execution_count": 14,
   "metadata": {},
   "outputs": [
    {
     "name": "stdout",
     "output_type": "stream",
     "text": [
      "True\n",
      "True\n",
      "Spot already taken.\n",
      "False\n",
      "Invalid move. Enter a valid move (such as A1, B2,C3).\n",
      "False\n"
     ]
    }
   ],
   "source": [
    "game_board = [[1, 2, 0],\n",
    "              [0, 1, 0],\n",
    "              [2, 1, 0]]\n",
    "\n",
    "print(place_labels(game_board, 1, \"A3\"))  #true - valid move\n",
    "print(place_labels(game_board, 2, \"B1\"))  #true - valid move\n",
    "print(place_labels(game_board, 2, \"C2\"))  #false - spot taken\n",
    "print(place_labels(game_board, 1, \"D1\"))  #invalid\n"
   ]
  },
  {
   "cell_type": "markdown",
   "metadata": {},
   "source": [
    "*Exercise 7:* Write a function that takes a board, player number, and location specified as in exercise 6 and then calls exercise 5 to correctly modify the board.  "
   ]
  },
  {
   "cell_type": "code",
   "execution_count": 15,
   "metadata": {},
   "outputs": [],
   "source": [
    "#from the previous steps\n",
    "def place_mark(board, player, x, y):\n",
    "    \n",
    "    #checking if spot is empty and within bounds, CONDENSED \n",
    "    if x < 0 or x >= len(board) or y < 0 or y >= len(board[0]):\n",
    "        return False  \n",
    "    if board[x][y] == 0: \n",
    "        board[x][y] = player  #place player's mark (1 for X, 2 for O)\n",
    "        return True  #placement worked\n",
    "    else:\n",
    "        return False  #spot taken\n",
    "\n",
    "#converting labels (exercise 6)\n",
    "def label_to_indices(move):\n",
    "    row_label = move[0].upper()\n",
    "    if row_label == \"A\":\n",
    "        row = 0\n",
    "    elif row_label == \"B\":\n",
    "        row = 1\n",
    "    elif row_label == \"C\":\n",
    "        row = 2\n",
    "    else:\n",
    "        return None, None  #invalid row label\n",
    "    \n",
    "    col_label = move[1]\n",
    "    if col_label == \"1\":\n",
    "        col = 0\n",
    "    elif col_label == \"2\":\n",
    "        col = 1\n",
    "    elif col_label == \"3\":\n",
    "        col = 2\n",
    "    else:\n",
    "        return None, None  #invalid column label\n",
    "    \n",
    "    return row, col\n",
    "\n",
    "#new function\n",
    "\n",
    "def modify_board(board, player, move):\n",
    "    row, col = label_to_indices(move) #converting the move to indices (row, col)\n",
    "    \n",
    "    if row is None or col is None:\n",
    "        print(\"Invalid move. Enter a valid move (example A1 or B2).\")\n",
    "        return False\n",
    "    \n",
    "    return place_mark(board, player, row, col) # use place_mark func from exercise 5 to modify the board"
   ]
  },
  {
   "cell_type": "code",
   "execution_count": 16,
   "metadata": {},
   "outputs": [
    {
     "name": "stdout",
     "output_type": "stream",
     "text": [
      "True\n",
      "True\n",
      "False\n",
      "Invalid move. Enter a valid move (example A1 or B2).\n",
      "False\n"
     ]
    }
   ],
   "source": [
    "game_board = [[1, 2, 0],\n",
    "              [0, 1, 0],\n",
    "              [2, 1, 0]]\n",
    "\n",
    "print(modify_board(game_board, 1, \"A3\"))  #true - valid move\n",
    "print(modify_board(game_board, 2, \"B1\"))  #true - valid move\n",
    "print(modify_board(game_board, 2, \"C2\"))  #false - spot taken\n",
    "print(modify_board(game_board, 1, \"D1\"))  #invalid"
   ]
  },
  {
   "cell_type": "markdown",
   "metadata": {},
   "source": [
    "*Exercise 8:* Write a function is called with a board and player number, takes input from the player using python's `input`, and modifies the board using your function from exercise 7. Note that you should keep asking for input until you have gotten a valid input that results in a valid move."
   ]
  },
  {
   "cell_type": "code",
   "execution_count": 17,
   "metadata": {},
   "outputs": [],
   "source": [
    "#keeps asking user for input\n",
    "\n",
    "#Exercise 7 function (from previous step)\n",
    "def modify_board(board, player, move):\n",
    "    row, col = label_to_indices(move)\n",
    "    \n",
    "    if row is None or col is None:\n",
    "        print(\"Invalid move. Enter a valid move (such as A1, B2).\")\n",
    "        return False\n",
    "    \n",
    "    return place_mark(board, player, row, col)\n",
    "\n",
    "#Exercise 6 function for converting labels (used in modify_board)\n",
    "def label_to_indices(move):\n",
    "    row_label = move[0].upper()\n",
    "    if row_label == \"A\":\n",
    "        row = 0\n",
    "    elif row_label == \"B\":\n",
    "        row = 1\n",
    "    elif row_label == \"C\":\n",
    "        row = 2\n",
    "    else:\n",
    "        return None, None \n",
    "    \n",
    "    col_label = move[1]\n",
    "    if col_label == \"1\":\n",
    "        col = 0\n",
    "    elif col_label == \"2\":\n",
    "        col = 1\n",
    "    elif col_label == \"3\":\n",
    "        col = 2\n",
    "    else:\n",
    "        return None, None\n",
    "    \n",
    "    return row, col\n",
    "\n",
    "#Exercise 5 function for placing marks on the board (used in modify_board)\n",
    "def place_mark(board, player, x, y):\n",
    "    if x < 0 or x >= len(board) or y < 0 or y >= len(board[0]): #condensed form\n",
    "        return False  # Invalid coordinates\n",
    "    if board[x][y] == 0:  #If the spot is empty\n",
    "        board[x][y] = player  #Place player's mark (1 for X, 2 for O)\n",
    "        return True  # successful move\n",
    "    else:\n",
    "        return False  # Spot already taken\n",
    "\n",
    "#asking for input until a valid move is made\n",
    "def player_input(board, player):\n",
    "    while True:  # Loop until a valid move is made\n",
    "        move = input(f\"Player {player}, enter your move (such as A1, B2): \")\n",
    "        \n",
    "        # Use the modify_board function from Exercise 7\n",
    "        if modify_board(board, player, move):\n",
    "            print(f\"Player {player} placed a mark at {move}\")\n",
    "            break  # Exit the loop after a valid move\n",
    "        else:\n",
    "            print(\"Invalid move, please try again.\")\n"
   ]
  },
  {
   "cell_type": "code",
   "execution_count": 18,
   "metadata": {},
   "outputs": [
    {
     "name": "stdout",
     "output_type": "stream",
     "text": [
      "Player 1, enter your move (such as A1, B2): C3\n",
      "Player 1 placed a mark at C3\n",
      "Player 2, enter your move (such as A1, B2): A1\n",
      "Player 2 placed a mark at A1\n"
     ]
    }
   ],
   "source": [
    "game_board = [[0, 2, 0],\n",
    "              [0, 1, 0],\n",
    "              [2, 1, 0]]\n",
    "\n",
    "# Now Player 1 and Player 2 can enter moves, and the board will be updated\n",
    "player_input(game_board, 1)  #asking player 1 for input\n",
    "player_input(game_board, 2)  #asking player 2 for input\n"
   ]
  },
  {
   "cell_type": "markdown",
   "metadata": {},
   "source": [
    "*Exercise 9:* Use all of the previous exercises to implement a full tic-tac-toe game, where an appropriate board is drawn, 2 players are repeatedly asked for a location coordinates of where they wish to place a mark, and the game status is checked until a player wins or a draw occurs."
   ]
  },
  {
   "cell_type": "code",
   "execution_count": 19,
   "metadata": {},
   "outputs": [],
   "source": [
    "def draw_board(board):\n",
    "    print(\"   1   2   3\")  # Column labels\n",
    "    row_labels = [\"A\", \"B\", \"C\"]\n",
    "    for i, row in enumerate(board):\n",
    "        print(f\"{row_labels[i]}  \" + \" | \".join([\"X\" if x == 1 else \"O\" if x == 2 else \" \" for x in row]))\n",
    "        if i < len(board) - 1:\n",
    "            print(\"  ---|---|---\")  \n",
    "\n",
    "\n",
    "def labels_location(move):\n",
    "    row_label = move[0].upper()\n",
    "    col_label = move[1]\n",
    "    \n",
    "    #nvert the letter part (A, B, C) to row index (0, 1, 2)\n",
    "    if row_label == \"A\":\n",
    "        row = 0\n",
    "    elif row_label == \"B\":\n",
    "        row = 1\n",
    "    elif row_label == \"C\":\n",
    "        row = 2\n",
    "    else:\n",
    "        return None, None  # Invalid row label\n",
    "    \n",
    "    #convert the number part (1, 2, 3) to column index (0, 1, 2)\n",
    "    if col_label == \"1\":\n",
    "        col = 0\n",
    "    elif col_label == \"2\":\n",
    "        col = 1\n",
    "    elif col_label == \"3\":\n",
    "        col = 2\n",
    "    else:\n",
    "        return None, None  \n",
    "    \n",
    "    return row, col\n",
    "\n",
    "\n",
    "def place_labels(board, player, move):\n",
    "    row, col = labels_location(move)\n",
    "    \n",
    "    if row is None or col is None:\n",
    "        print(\"Invalid move. Enter a valid move (such as A1, B2, C3).\")\n",
    "        return False\n",
    "    \n",
    "    # Check if the spot is empty\n",
    "    if board[row][col] == 0:\n",
    "        board[row][col] = player\n",
    "        return True\n",
    "    else:\n",
    "        print(\"Spot is already taken.\")\n",
    "        return False\n",
    "\n",
    "\n",
    "def check_winner(board): #checking for a winner\n",
    "    n = len(board)\n",
    "    \n",
    "    for i in range(n): #check rows and columns\n",
    "        if board[i].count(1) == n:  #player 1 wins in row\n",
    "            return 1\n",
    "        if board[i].count(2) == n:  #player 2 wins in row\n",
    "            return 2\n",
    "        col_values = [board[j][i] for j in range(n)]\n",
    "        if col_values.count(1) == n:  #player 1 wins in column\n",
    "            return 1\n",
    "        if col_values.count(2) == n:  #player 2 wins in column\n",
    "            return 2\n",
    "    \n",
    "    diagonal = [board[i][i] for i in range(n)] #condensed checking diagonal\n",
    "    if diagonal.count(1) == n:\n",
    "        return 1\n",
    "    if diagonal.count(2) == n:\n",
    "        return 2\n",
    "    \n",
    "    opposite_diagonal = [board[i][n-i-1] for i in range(n)] #condensed the other diagonal\n",
    "    if opposite_diagonal.count(1) == n:\n",
    "        return 1\n",
    "    if opposite_diagonal.count(2) == n:\n",
    "        return 2\n",
    "    \n",
    "    if all(cell != 0 for row in board for cell in row):  #checking for draw (no empty spots left)\n",
    "        return 0  #fraw\n",
    "    \n",
    "    return -1  #game hasnt ended"
   ]
  },
  {
   "cell_type": "code",
   "execution_count": 20,
   "metadata": {},
   "outputs": [],
   "source": [
    "def draw_board(board):\n",
    "    n = len(board)     #number of rows\n",
    "    m = len(board[0])  #number of columns\n",
    "    \n",
    "    print(\"   1   2   3\")  #column labels for 3x3 board\n",
    "    row_labels = [\"A\", \"B\", \"C\"]  # row labels\n",
    "\n",
    "    for i, row in enumerate(board):\n",
    "        print(\"  \" + \"--- \" * m)  #top line\n",
    "        row_display = \"|\"\n",
    "        for col in row:\n",
    "            if col == 1:\n",
    "                row_display += \" X |\"  #X for player 1\n",
    "            elif col == 2:\n",
    "                row_display += \" O |\"  #O for player 2\n",
    "            else:\n",
    "                row_display += \"   |\"  \n",
    "        print(row_labels[i] + row_display)  #printing row with label\n",
    "    print(\"  \" + \"--- \" * m)  #bottom line"
   ]
  },
  {
   "cell_type": "code",
   "execution_count": 21,
   "metadata": {},
   "outputs": [
    {
     "name": "stdout",
     "output_type": "stream",
     "text": [
      "   1   2   3\n",
      "  --- --- --- \n",
      "A|   |   |   |\n",
      "  --- --- --- \n",
      "B|   |   |   |\n",
      "  --- --- --- \n",
      "C|   |   |   |\n",
      "  --- --- --- \n",
      "Player 1 (X), enter your move (such as A1, B2, C3): A1\n",
      "   1   2   3\n",
      "  --- --- --- \n",
      "A| X |   |   |\n",
      "  --- --- --- \n",
      "B|   |   |   |\n",
      "  --- --- --- \n",
      "C|   |   |   |\n",
      "  --- --- --- \n",
      "Player 2 (O), enter your move (such as A1, B2, C3): b2\n",
      "   1   2   3\n",
      "  --- --- --- \n",
      "A| X |   |   |\n",
      "  --- --- --- \n",
      "B|   | O |   |\n",
      "  --- --- --- \n",
      "C|   |   |   |\n",
      "  --- --- --- \n",
      "Player 1 (X), enter your move (such as A1, B2, C3): c3\n",
      "   1   2   3\n",
      "  --- --- --- \n",
      "A| X |   |   |\n",
      "  --- --- --- \n",
      "B|   | O |   |\n",
      "  --- --- --- \n",
      "C|   |   | X |\n",
      "  --- --- --- \n",
      "Player 2 (O), enter your move (such as A1, B2, C3): a3\n",
      "   1   2   3\n",
      "  --- --- --- \n",
      "A| X |   | O |\n",
      "  --- --- --- \n",
      "B|   | O |   |\n",
      "  --- --- --- \n",
      "C|   |   | X |\n",
      "  --- --- --- \n",
      "Player 1 (X), enter your move (such as A1, B2, C3): a1\n",
      "Spot is already taken.\n",
      "Invalid move. Try again!\n",
      "   1   2   3\n",
      "  --- --- --- \n",
      "A| X |   | O |\n",
      "  --- --- --- \n",
      "B|   | O |   |\n",
      "  --- --- --- \n",
      "C|   |   | X |\n",
      "  --- --- --- \n",
      "Player 1 (X), enter your move (such as A1, B2, C3): c1\n",
      "   1   2   3\n",
      "  --- --- --- \n",
      "A| X |   | O |\n",
      "  --- --- --- \n",
      "B|   | O |   |\n",
      "  --- --- --- \n",
      "C| X |   | X |\n",
      "  --- --- --- \n",
      "Player 2 (O), enter your move (such as A1, B2, C3): c2\n",
      "   1   2   3\n",
      "  --- --- --- \n",
      "A| X |   | O |\n",
      "  --- --- --- \n",
      "B|   | O |   |\n",
      "  --- --- --- \n",
      "C| X | O | X |\n",
      "  --- --- --- \n",
      "Player 1 (X), enter your move (such as A1, B2, C3): b1\n",
      "   1   2   3\n",
      "  --- --- --- \n",
      "A| X |   | O |\n",
      "  --- --- --- \n",
      "B| X | O |   |\n",
      "  --- --- --- \n",
      "C| X | O | X |\n",
      "  --- --- --- \n",
      "Player 1 (X) wins!\n"
     ]
    }
   ],
   "source": [
    "def tic_tac_toe():\n",
    "    board = [[0, 0, 0],  #empty board\n",
    "             [0, 0, 0],\n",
    "             [0, 0, 0]]\n",
    "    \n",
    "    player = 1  #player 1 starts (X)\n",
    "    game_status = -1  #game is ongoing (-1), win (1 or 2), or draw (0)\n",
    "\n",
    "    \n",
    "    while game_status == -1:  #while the game is ongoing\n",
    "        draw_board(board)\n",
    "        move = input(f\"Player {player} ({'X' if player == 1 else 'O'}), enter your move (such as A1, B2, C3): \")\n",
    "        \n",
    "        if place_labels(board, player, move):  #is move valid?\n",
    "            game_status = check_winner(board)  #game status\n",
    "            \n",
    "            if game_status == -1:  #game ongoing\n",
    "                player = 2 if player == 1 else 1  # switch player\n",
    "        else:\n",
    "            print(\"Invalid move. Try again!\")\n",
    "    \n",
    "    draw_board(board)\n",
    "    \n",
    "    if game_status == 0:\n",
    "        print(\"Draw!\")\n",
    "    else:\n",
    "        print(f\"Player {game_status} ({'X' if game_status == 1 else 'O'}) wins!\")\n",
    "\n",
    "\n",
    "tic_tac_toe()\n"
   ]
  },
  {
   "cell_type": "markdown",
   "metadata": {},
   "source": [
    "*Exercise 10:* Test that your game works for 5x5 Tic Tac Toe.  "
   ]
  },
  {
   "cell_type": "code",
   "execution_count": 22,
   "metadata": {},
   "outputs": [
    {
     "name": "stdout",
     "output_type": "stream",
     "text": [
      "   1   2   3\n",
      "  --- --- --- --- --- \n",
      "A|   |   |   |   |   |\n",
      "  --- --- --- --- --- \n",
      "B|   |   |   |   |   |\n",
      "  --- --- --- --- --- \n",
      "C|   |   |   |   |   |\n",
      "  --- --- --- --- --- \n"
     ]
    },
    {
     "ename": "IndexError",
     "evalue": "list index out of range",
     "output_type": "error",
     "traceback": [
      "\u001b[0;31m---------------------------------------------------------------------------\u001b[0m",
      "\u001b[0;31mIndexError\u001b[0m                                Traceback (most recent call last)",
      "Cell \u001b[0;32mIn[22], line 31\u001b[0m\n\u001b[1;32m     28\u001b[0m     \u001b[38;5;28;01melse\u001b[39;00m:\n\u001b[1;32m     29\u001b[0m         \u001b[38;5;28mprint\u001b[39m(\u001b[38;5;124mf\u001b[39m\u001b[38;5;124m\"\u001b[39m\u001b[38;5;124mPlayer \u001b[39m\u001b[38;5;132;01m{\u001b[39;00mgame_status\u001b[38;5;132;01m}\u001b[39;00m\u001b[38;5;124m (\u001b[39m\u001b[38;5;132;01m{\u001b[39;00m\u001b[38;5;124m'\u001b[39m\u001b[38;5;124mX\u001b[39m\u001b[38;5;124m'\u001b[39m\u001b[38;5;250m \u001b[39m\u001b[38;5;28;01mif\u001b[39;00m\u001b[38;5;250m \u001b[39mgame_status\u001b[38;5;250m \u001b[39m\u001b[38;5;241m==\u001b[39m\u001b[38;5;250m \u001b[39m\u001b[38;5;241m1\u001b[39m\u001b[38;5;250m \u001b[39m\u001b[38;5;28;01melse\u001b[39;00m\u001b[38;5;250m \u001b[39m\u001b[38;5;124m'\u001b[39m\u001b[38;5;124mO\u001b[39m\u001b[38;5;124m'\u001b[39m\u001b[38;5;132;01m}\u001b[39;00m\u001b[38;5;124m) wins!\u001b[39m\u001b[38;5;124m\"\u001b[39m)\n\u001b[0;32m---> 31\u001b[0m \u001b[43mtictactoe_5by5\u001b[49m\u001b[43m(\u001b[49m\u001b[43m)\u001b[49m\n",
      "Cell \u001b[0;32mIn[22], line 13\u001b[0m, in \u001b[0;36mtictactoe_5by5\u001b[0;34m()\u001b[0m\n\u001b[1;32m      9\u001b[0m game_status \u001b[38;5;241m=\u001b[39m \u001b[38;5;241m-\u001b[39m\u001b[38;5;241m1\u001b[39m \n\u001b[1;32m     12\u001b[0m \u001b[38;5;28;01mwhile\u001b[39;00m game_status \u001b[38;5;241m==\u001b[39m \u001b[38;5;241m-\u001b[39m\u001b[38;5;241m1\u001b[39m:  \u001b[38;5;66;03m#while game is ongoing\u001b[39;00m\n\u001b[0;32m---> 13\u001b[0m     \u001b[43mdraw_board\u001b[49m\u001b[43m(\u001b[49m\u001b[43mboard\u001b[49m\u001b[43m)\u001b[49m\n\u001b[1;32m     14\u001b[0m     move \u001b[38;5;241m=\u001b[39m \u001b[38;5;28minput\u001b[39m(\u001b[38;5;124mf\u001b[39m\u001b[38;5;124m\"\u001b[39m\u001b[38;5;124mPlayer \u001b[39m\u001b[38;5;132;01m{\u001b[39;00mplayer\u001b[38;5;132;01m}\u001b[39;00m\u001b[38;5;124m (\u001b[39m\u001b[38;5;132;01m{\u001b[39;00m\u001b[38;5;124m'\u001b[39m\u001b[38;5;124mX\u001b[39m\u001b[38;5;124m'\u001b[39m\u001b[38;5;250m \u001b[39m\u001b[38;5;28;01mif\u001b[39;00m\u001b[38;5;250m \u001b[39mplayer\u001b[38;5;250m \u001b[39m\u001b[38;5;241m==\u001b[39m\u001b[38;5;250m \u001b[39m\u001b[38;5;241m1\u001b[39m\u001b[38;5;250m \u001b[39m\u001b[38;5;28;01melse\u001b[39;00m\u001b[38;5;250m \u001b[39m\u001b[38;5;124m'\u001b[39m\u001b[38;5;124mO\u001b[39m\u001b[38;5;124m'\u001b[39m\u001b[38;5;132;01m}\u001b[39;00m\u001b[38;5;124m), enter your move (such A1, B2, C3): \u001b[39m\u001b[38;5;124m\"\u001b[39m)\n\u001b[1;32m     16\u001b[0m     \u001b[38;5;28;01mif\u001b[39;00m place_labels(board, player, move):  \u001b[38;5;66;03m#is move valid?\u001b[39;00m\n",
      "Cell \u001b[0;32mIn[20], line 18\u001b[0m, in \u001b[0;36mdraw_board\u001b[0;34m(board)\u001b[0m\n\u001b[1;32m     16\u001b[0m         \u001b[38;5;28;01melse\u001b[39;00m:\n\u001b[1;32m     17\u001b[0m             row_display \u001b[38;5;241m+\u001b[39m\u001b[38;5;241m=\u001b[39m \u001b[38;5;124m\"\u001b[39m\u001b[38;5;124m   |\u001b[39m\u001b[38;5;124m\"\u001b[39m  \n\u001b[0;32m---> 18\u001b[0m     \u001b[38;5;28mprint\u001b[39m(\u001b[43mrow_labels\u001b[49m\u001b[43m[\u001b[49m\u001b[43mi\u001b[49m\u001b[43m]\u001b[49m \u001b[38;5;241m+\u001b[39m row_display)  \u001b[38;5;66;03m#printing row with label\u001b[39;00m\n\u001b[1;32m     19\u001b[0m \u001b[38;5;28mprint\u001b[39m(\u001b[38;5;124m\"\u001b[39m\u001b[38;5;124m  \u001b[39m\u001b[38;5;124m\"\u001b[39m \u001b[38;5;241m+\u001b[39m \u001b[38;5;124m\"\u001b[39m\u001b[38;5;124m--- \u001b[39m\u001b[38;5;124m\"\u001b[39m \u001b[38;5;241m*\u001b[39m m)\n",
      "\u001b[0;31mIndexError\u001b[0m: list index out of range"
     ]
    }
   ],
   "source": [
    "def tictactoe_5by5():\n",
    "    board = [[0, 0, 0, 0, 0],  #empty board\n",
    "             [0, 0, 0, 0, 0],\n",
    "             [0, 0, 0, 0, 0],\n",
    "             [0, 0, 0, 0, 0],\n",
    "             [0, 0, 0, 0, 0]]\n",
    "    \n",
    "    player = 1  #player 1 starts - X\n",
    "    game_status = -1 \n",
    "    \n",
    "    \n",
    "    while game_status == -1:  #while game is ongoing\n",
    "        draw_board(board)\n",
    "        move = input(f\"Player {player} ({'X' if player == 1 else 'O'}), enter your move (such A1, B2, C3): \")\n",
    "        \n",
    "        if place_labels(board, player, move):  #is move valid?\n",
    "            game_status = check_winner(board)  #checking the game status\n",
    "            \n",
    "            if game_status == -1:  #game is ongoing\n",
    "                player = 2 if player == 1 else 1  #switchings players\n",
    "        else:\n",
    "            print(\"Invalid move. Try again.\")\n",
    "    \n",
    "    draw_board(board) #game has ended, printing the final board\n",
    "    \n",
    "    if game_status == 0:\n",
    "        print(\"Draw!\")\n",
    "    else:\n",
    "        print(f\"Player {game_status} ({'X' if game_status == 1 else 'O'}) wins!\")\n",
    "\n",
    "tictactoe_5by5()"
   ]
  },
  {
   "cell_type": "markdown",
   "metadata": {},
   "source": [
    "*Exercise 11:* (Advanced / Challenge) Develop a version of the game where one player is the computer. Note that you don't need to do an extensive seach for the best move. You can have the computer simply protect against loosing and otherwise try to win with straight or diagonal patterns."
   ]
  },
  {
   "cell_type": "code",
   "execution_count": null,
   "metadata": {},
   "outputs": [],
   "source": [
    "#EXTRA QUESTION POINTS\n",
    "\n",
    "# Write you solution here"
   ]
  },
  {
   "cell_type": "code",
   "execution_count": null,
   "metadata": {},
   "outputs": [],
   "source": [
    "# Test your solution here"
   ]
  }
 ],
 "metadata": {
  "kernelspec": {
   "display_name": "Python 3 (ipykernel)",
   "language": "python",
   "name": "python3"
  },
  "language_info": {
   "codemirror_mode": {
    "name": "ipython",
    "version": 3
   },
   "file_extension": ".py",
   "mimetype": "text/x-python",
   "name": "python",
   "nbconvert_exporter": "python",
   "pygments_lexer": "ipython3",
   "version": "3.12.3"
  }
 },
 "nbformat": 4,
 "nbformat_minor": 2
}
