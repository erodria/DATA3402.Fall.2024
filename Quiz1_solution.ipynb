{
 "cells": [
  {
   "cell_type": "markdown",
   "id": "77c5d497",
   "metadata": {},
   "source": [
    "## Can you rewrite create_new_args as a two lines of code using functional programming, list comprehensions, and shortcuts? How about a single line?\n"
   ]
  },
  {
   "cell_type": "code",
   "execution_count": 19,
   "id": "157defeb",
   "metadata": {},
   "outputs": [],
   "source": [
    "#def create_new_args_0(args):\n",
    "    #max_len = max(map(len,\n",
    "                      #filter(lambda x: isinstance(x,list),\n",
    "                        #args)))\n",
    "\n",
    "    # Rewrite this section:\n",
    "    #new_args=list()\n",
    "\n",
    "    #for a in args:\n",
    "        #if not isinstance(a,list):\n",
    "            #a0=[a]*max_len\n",
    "        #elif len(a)!=max_len:\n",
    "            #print(\"Error: all list arguments must have same length.\")\n",
    "            #return\n",
    "        #else:\n",
    "            #a0=a\n",
    "        #new_args.append(a0)\n",
    "\n",
    "    #return new_args\n",
    "\n",
    " # rewritten/ condensed code line\n",
    "def create_new_args(args):\n",
    "    max_len = max(map(len, filter(lambda x: isinstance(x, list), args)))\n",
    "    return [[a] * max_len if not isinstance(a, list) else (a if len(a) == max_len else print(\"Error: all list arguments must have same length.\") or exit()) for a in args]\n"
   ]
  },
  {
   "cell_type": "code",
   "execution_count": 22,
   "id": "c29ce408",
   "metadata": {},
   "outputs": [
    {
     "name": "stdout",
     "output_type": "stream",
     "text": [
      "None\n"
     ]
    }
   ],
   "source": [
    "result = create_new_args_0([[1, 2], [3, 4], 5])\n",
    "print(result)"
   ]
  },
  {
   "cell_type": "code",
   "execution_count": 23,
   "id": "6284c534",
   "metadata": {},
   "outputs": [
    {
     "name": "stdout",
     "output_type": "stream",
     "text": [
      "None\n"
     ]
    }
   ],
   "source": [
    "result_2 = create_new_args_0([[1,2],[3,4,5],5])\n",
    "print(result_2)"
   ]
  },
  {
   "cell_type": "code",
   "execution_count": null,
   "id": "f48157ff",
   "metadata": {},
   "outputs": [],
   "source": []
  },
  {
   "cell_type": "code",
   "execution_count": null,
   "id": "5aad8b02",
   "metadata": {},
   "outputs": [],
   "source": []
  }
 ],
 "metadata": {
  "kernelspec": {
   "display_name": "Python 3 (ipykernel)",
   "language": "python",
   "name": "python3"
  },
  "language_info": {
   "codemirror_mode": {
    "name": "ipython",
    "version": 3
   },
   "file_extension": ".py",
   "mimetype": "text/x-python",
   "name": "python",
   "nbconvert_exporter": "python",
   "pygments_lexer": "ipython3",
   "version": "3.11.5"
  }
 },
 "nbformat": 4,
 "nbformat_minor": 5
}
