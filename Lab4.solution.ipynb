{
 "cells": [
  {
   "cell_type": "markdown",
   "metadata": {},
   "source": [
    "# Lab 4- Object Oriented Programming\n",
    "\n",
    "For all of the exercises below, make sure you provide tests of your solutions.\n"
   ]
  },
  {
   "cell_type": "markdown",
   "metadata": {},
   "source": [
    "1. Write a \"counter\" class that can be incremented up to a specified maximum value, will print an error if an attempt is made to increment beyond that value, and allows reseting the counter. "
   ]
  },
  {
   "cell_type": "code",
   "execution_count": 1,
   "metadata": {},
   "outputs": [],
   "source": [
    "class Counter:\n",
    "    def __init__(self, max_value):\n",
    "        self.max_value = max_value #setting max val\n",
    "        self.current_value = 0 \n",
    "\n",
    "    def increment(self):\n",
    "        if self.current_value < self.max_value:\n",
    "            self.current_value += 1  \n",
    "        else:\n",
    "            print(\"Error: Maximum value reached.\")  \n",
    "\n",
    "    def reset(self):\n",
    "        self.current_value = 0  #resetting back to 0\n",
    "\n",
    "    def get_value(self):\n",
    "        return self.current_value  #return the current value of the counter\n"
   ]
  },
  {
   "cell_type": "markdown",
   "metadata": {},
   "source": [
    "2. Copy and paste your solution to question 1 and modify it so that all the data held by the counter is **private**. Implement functions to check the value of the counter, check the maximum value, and check if the counter is at the maximum."
   ]
  },
  {
   "cell_type": "code",
   "execution_count": 2,
   "metadata": {},
   "outputs": [],
   "source": [
    "class Counter:\n",
    "    def __init__(self, max_value):\n",
    "        self.__max_value = max_value  #private variable for max value\n",
    "        self.__current_value = 0  #private variable for current counter value\n",
    "\n",
    "    def increment(self):\n",
    "        if self.__current_value < self.__max_value:\n",
    "            self.__current_value += 1\n",
    "        else:\n",
    "            print(\"Error: Maximum value reached.\")  \n",
    "\n",
    "    def reset(self):\n",
    "        self.__current_value = 0  #resetting\n",
    "\n",
    "    #checking current value\n",
    "    def get_value(self):\n",
    "        return self.__current_value  \n",
    "\n",
    "    #checking max val\n",
    "    def get_max_value(self):\n",
    "        return self.__max_value  \n",
    "\n",
    "    #checking if counter is at max value\n",
    "    def is_at_max(self):\n",
    "        return self.__current_value == self.__max_value #\"True\" if the counter is at max\n",
    "    \n"
   ]
  },
  {
   "cell_type": "markdown",
   "metadata": {},
   "source": [
    "3. Implement a class to represent a rectangle, holding the length, width, and $x$ and $y$ coordinates of a corner of the object. Implement functions that compute the area and perimeter of the rectangle. Make all data members private and privide accessors to retrieve values of data members. "
   ]
  },
  {
   "cell_type": "code",
   "execution_count": 3,
   "metadata": {},
   "outputs": [],
   "source": [
    "class Rectangle:\n",
    "    def __init__(self, length, width, x, y):\n",
    "        self.__length = length  #\" __\" Private variable\n",
    "        self.__width = width \n",
    "        self.__x = x \n",
    "        self.__y = y \n",
    "\n",
    "    #accessor methods to get the private variables\n",
    "    def get_length(self):\n",
    "        return self.__length\n",
    "\n",
    "    def get_width(self):\n",
    "        return self.__width\n",
    "\n",
    "    def get_x(self):\n",
    "        return self.__x\n",
    "\n",
    "    def get_y(self):\n",
    "        return self.__y\n",
    "\n",
    "    def area(self):\n",
    "        return self.__length * self.__width\n",
    "\n",
    "    def perimeter(self):\n",
    "        return 2 * (self.__length + self.__width)\n"
   ]
  },
  {
   "cell_type": "markdown",
   "metadata": {},
   "source": [
    "4. Implement a class to represent a circle, holding the radius and $x$ and $y$ coordinates of center of the object. Implement functions that compute the area and perimeter of the rectangle. Make all data members private and privide accessors to retrieve values of data members. "
   ]
  },
  {
   "cell_type": "code",
   "execution_count": 4,
   "metadata": {},
   "outputs": [],
   "source": [
    "class Circle:\n",
    "    def __init__(self, radius, x, y):\n",
    "        self.__radius = radius\n",
    "        self.__x = x \n",
    "        self.__y = y\n",
    "        self.__pi = 3.14159 #value of pi\n",
    "\n",
    "#accessor methods to retrieve values of variabels\n",
    "    def get_radius(self):\n",
    "        return self.__radius\n",
    "\n",
    "    def get_x(self):\n",
    "        return self.__x\n",
    "\n",
    "    def get_y(self):\n",
    "        return self.__y\n",
    "\n",
    "    #area of the circle\n",
    "    def area(self):\n",
    "        return self.__pi * self.__radius ** 2\n",
    "\n",
    "    #circumference of the circle\n",
    "    def circumference(self):\n",
    "        return 2 * self.__pi * self.__radius\n"
   ]
  },
  {
   "cell_type": "markdown",
   "metadata": {},
   "source": [
    "5. Implement a common base class for the classes implemented in 3 and 4 above which implements all common methods as not implemented functions (virtual). Re-implement your regtangle and circule classes to inherit from the base class and overload the functions accordingly. "
   ]
  },
  {
   "cell_type": "code",
   "execution_count": 5,
   "metadata": {},
   "outputs": [],
   "source": [
    "#base class\n",
    "class Shape:\n",
    "    def __init__(self):\n",
    "        pass\n",
    "\n",
    "#re implement rectangle\n",
    "class Rectangle:\n",
    "    def __init__(self, length, width, x, y):\n",
    "        super(Rectangle, self).__init__() #calling base class constructor\n",
    "        self.__length = length  #\" __\" Private variable\n",
    "        self.__width = width \n",
    "        self.__x = x \n",
    "        self.__y = y \n",
    "\n",
    "#accessor methods to get the private variables\n",
    "    def get_length(self):\n",
    "        return self.__length\n",
    "\n",
    "    def get_width(self):\n",
    "        return self.__width\n",
    "\n",
    "    def get_x(self):\n",
    "        return self.__x\n",
    "\n",
    "    def get_y(self):\n",
    "        return self.__y\n",
    "\n",
    "    def area(self):\n",
    "        return self.__length * self.__width\n",
    "\n",
    "    def perimeter(self):\n",
    "        return 2 * (self.__length + self.__width)\n",
    "\n",
    "#re implementing circle class\n",
    "class Circle(Shape):\n",
    "    def __init__(self, radius, x, y):\n",
    "        super(Circle, self).__init__()  #calling the base class constructor\n",
    "        self.__radius = radius\n",
    "        self.__x = x \n",
    "        self.__y = y \n",
    "        self.__pi = 3.14159 \n",
    "\n",
    "    def get_radius(self):\n",
    "        return self.__radius\n",
    "\n",
    "    def get_x(self):\n",
    "        return self.__x\n",
    "\n",
    "    def get_y(self):\n",
    "        return self.__y\n",
    "\n",
    "    #area\n",
    "    def area(self):\n",
    "        return self.__pi * self.__radius ** 2\n",
    "\n",
    "    #perimeter of circle\n",
    "    def perimeter(self):\n",
    "        return 2 * self.__pi * self.__radius"
   ]
  },
  {
   "cell_type": "markdown",
   "metadata": {},
   "source": [
    "6. Implement a triangle class analogous to the rectangle and circle in question 5."
   ]
  },
  {
   "cell_type": "code",
   "execution_count": 6,
   "metadata": {},
   "outputs": [],
   "source": [
    "class Triangle:\n",
    "    def __init__(self, base, height, side_a, side_b, side_c, x, y):\n",
    "        self.__base = base #base of the triangle\n",
    "        self.__height = height  \n",
    "        self.__side_a = side_a \n",
    "        self.__side_b = side_b\n",
    "        self.__side_c = side_c\n",
    "        self.__x = x  \n",
    "        self.__y = y \n",
    "        \n",
    "\n",
    "    def get_base(self):\n",
    "        return self.__base\n",
    "\n",
    "    def get_height(self):\n",
    "        return self.__height\n",
    "\n",
    "    def get_side_a(self):\n",
    "        return self.__side_a\n",
    "\n",
    "    def get_side_b(self):\n",
    "        return self.__side_b\n",
    "\n",
    "    def get_side_c(self):\n",
    "        return self.__side_c\n",
    "\n",
    "    def get_x(self):\n",
    "        return self.__x\n",
    "\n",
    "    def get_y(self):\n",
    "        return self.__y\n",
    "\n",
    "    #triangle area\n",
    "    def area(self):\n",
    "        return 0.5 * self.__base * self.__height\n",
    "\n",
    "    #tirangle peremeter\n",
    "    def perimeter(self):\n",
    "        return self.__side_a + self.__side_b + self.__side_c\n"
   ]
  },
  {
   "cell_type": "markdown",
   "metadata": {},
   "source": [
    "7. Add a function to the object classes, including the base, that returns a list of up to 16 pairs of  $x$ and $y$ points on the parameter of the object. "
   ]
  },
  {
   "cell_type": "code",
   "execution_count": 7,
   "metadata": {},
   "outputs": [],
   "source": [
    "#add a func/method to the object classes, INCLUDING BASE, that wil return a list of 16 pairs\n",
    "## of x and y points on PARAMETER of objects\n",
    "\n",
    "#base class again\n",
    "class Shape:\n",
    "    def __init__(self):\n",
    "        pass\n",
    "    \n",
    "class Rectangle(Shape):\n",
    "    def __init__(self, length, width, x, y):\n",
    "        super().__init__()\n",
    "        self.__length = length\n",
    "        self.__width = width\n",
    "        self.__x = x\n",
    "        self.__y = y\n",
    "        \n",
    "#methods for private \n",
    "    def get_length(self):\n",
    "        return self.__length\n",
    "\n",
    "    def get_width(self):\n",
    "        return self.__width\n",
    "\n",
    "    def get_x(self):\n",
    "        return self.__x\n",
    "    \n",
    "    def get_y(self):\n",
    "        return self.__y\n",
    "\n",
    "    def area(self):\n",
    "        return self.__length * self.__width\n",
    "\n",
    "    def perimeter(self):\n",
    "        return 2 * (self.__length + self.__width)\n",
    "    \n",
    "    \n",
    "#setting the four corners of the plane to refer to when \n",
    "#first set - bottom-left point\n",
    "#second set - bottom- right point\n",
    "#third set - top-right point\n",
    "#fourth set - top-left point\n",
    "    def perimeter_points(self):\n",
    "        return [(self.__x, self.__y),  \n",
    "            (self.__x + self.__length, self.__y),\n",
    "            (self.__x + self.__length, self.__y + self.__width),\n",
    "            (self.__x, self.__y + self.__width)]\n",
    "\n",
    "#circle class\n",
    "#import math to set up points around the circle\n",
    "#using sine and cosine to find the set of points in the perimeter\n",
    "import math\n",
    "\n",
    "class Circle(Shape):\n",
    "    def __init__(self, radius, x, y):\n",
    "        super().__init__()\n",
    "        self.__radius = radius\n",
    "        self.__x = x\n",
    "        self.__y = y\n",
    "        self.__pi = 3.14159\n",
    "    \n",
    "    def get_radius(self):\n",
    "        return self.__radius\n",
    "    \n",
    "    def get_x(self):\n",
    "        return self.__x\n",
    "    \n",
    "    def get_y(self):\n",
    "        return self.__y\n",
    "    \n",
    "    def area(self):\n",
    "        return self.__pi * self.__radius ** 2\n",
    "     \n",
    "    def perimeter(self):\n",
    "        return 2 * self.__pi * self.__radius\n",
    "    \n",
    "#perimeter points\n",
    "    def perimeter_points(self):\n",
    "        # 16 points around the circle\n",
    "        points = [] #empty list\n",
    "        for i in range(16):\n",
    "            angle = (2 * self.__pi / 16) * i\n",
    "            x_point = self.__x + self.__radius * math.cos(angle)\n",
    "            y_point = self.__y + self.__radius * math.sin(angle)\n",
    "            points.append((x_point, y_point))\n",
    "        return points\n"
   ]
  },
  {
   "cell_type": "code",
   "execution_count": 8,
   "metadata": {},
   "outputs": [
    {
     "name": "stdout",
     "output_type": "stream",
     "text": [
      "Rectangle Area: 8\n",
      "Rectangle Perimeter: 12\n",
      "Rectangle Perimeter Points: [(0, 0), (2, 0), (2, 4), (0, 4)]\n"
     ]
    }
   ],
   "source": [
    "#test solution\n",
    "rect = Rectangle(2, 4, 0, 0)\n",
    "print(\"Rectangle Area:\", rect.area())\n",
    "print(\"Rectangle Perimeter:\", rect.perimeter())\n",
    "print(\"Rectangle Perimeter Points:\", rect.perimeter_points())"
   ]
  },
  {
   "cell_type": "code",
   "execution_count": 9,
   "metadata": {},
   "outputs": [
    {
     "name": "stdout",
     "output_type": "stream",
     "text": [
      "Circle Area: 12.56636\n",
      "Circle Perimeter: 12.56636\n",
      "Circle Perimeter Points: [(2.0, 0.0), (1.8477593188936845, 0.765366251830813), (1.4142145005584525, 1.4142126241871151), (0.7653687034277741, 1.847758303408021), (2.6535897933550656e-06, 1.9999999999982396), (-0.7653638002325049, 1.8477603343760949), (-1.414210747813288, 1.4142163769273006), (-1.8477572879191047, 0.7653711550233877), (-1.9999999999929585, 5.30717958670546e-06), (-1.8477613498552528, -0.7653613486328493), (-1.4142182532936582, -1.414208871436972), (-0.7653736066176531, -1.847756272426936), (-7.960769380934691e-06, -1.9999999999841565), (0.7653588970318456, -1.8477623653311583), (1.4142069950581655, -1.4142201296575276), (1.847755256931514, -0.7653760582105729)]\n"
     ]
    }
   ],
   "source": [
    "circle = Circle(2, 0, 0)\n",
    "print(\"Circle Area:\", circle.area())\n",
    "print(\"Circle Perimeter:\", circle.perimeter())\n",
    "print(\"Circle Perimeter Points:\", circle.perimeter_points())"
   ]
  },
  {
   "cell_type": "markdown",
   "metadata": {},
   "source": [
    "8. Add a function to the object classes, including the base, that tests if a given set of $x$ and $y$ coordinates are inside of the object. You'll have to think through how to determine if a set of coordinates are inside an object for each object type."
   ]
  },
  {
   "cell_type": "code",
   "execution_count": 10,
   "metadata": {},
   "outputs": [],
   "source": [
    "class Shape:\n",
    "    def __init__(self):\n",
    "        pass\n",
    "    \n",
    "#method so that each subclass can override\n",
    "    def is_point_inside(self, x, y):\n",
    "        return False #false since we don;t know how to check a point inside\n",
    "\n",
    "class Rectangle(Shape):\n",
    "    def __init__(self, length, width, x, y):\n",
    "        self.__length = length\n",
    "        self.__width = width\n",
    "        self.__x = x\n",
    "        self.__y = y\n",
    "    \n",
    "#checking if the point is inside the rectangle\n",
    "    def is_point_inside(self, point_x, point_y):\n",
    "        x_min = self.__x\n",
    "        x_max = self.__x + self.__length\n",
    "        y_min = self.__y\n",
    "        y_max = self.__y + self.__width\n",
    "        return x_min <= point_x <= x_max and y_min <= point_y <= y_max\n",
    "\n",
    "class Circle(Shape):\n",
    "    def __init__(self, radius, x, y):\n",
    "        self.__radius = radius\n",
    "        self.__x = x\n",
    "        self.__y = y\n",
    "    \n",
    "#checking if the point  is inside the circle\n",
    "    def is_point_inside(self, point_x, point_y):\n",
    "        return (point_x - self.__x) ** 2 + (point_y - self.__y) ** 2 <= self.__radius ** 2\n"
   ]
  },
  {
   "cell_type": "code",
   "execution_count": 11,
   "metadata": {
    "scrolled": true
   },
   "outputs": [
    {
     "name": "stdout",
     "output_type": "stream",
     "text": [
      "True\n",
      "False\n"
     ]
    }
   ],
   "source": [
    "rect = Rectangle(7, 5, 0, 0) #lenght = 7, width = 5\n",
    "print(rect.is_point_inside(3, 3)) #true if point inside\n",
    "print(rect.is_point_inside(11, 3)) #false if point outsdie"
   ]
  },
  {
   "cell_type": "code",
   "execution_count": 12,
   "metadata": {},
   "outputs": [
    {
     "name": "stdout",
     "output_type": "stream",
     "text": [
      "True\n",
      "False\n"
     ]
    }
   ],
   "source": [
    "circle = Circle(2, 0, 0)  #radius 2, starts at origin\n",
    "print(circle.is_point_inside(1, 1))  #true if point inside\n",
    "print(circle.is_point_inside(3, 0)) #false if points outside"
   ]
  },
  {
   "cell_type": "markdown",
   "metadata": {},
   "source": [
    "9. Add a function in the base class of the object classes that returns true/false testing that the object overlaps with another object."
   ]
  },
  {
   "cell_type": "code",
   "execution_count": 58,
   "metadata": {},
   "outputs": [],
   "source": [
    "class Shape:\n",
    "    def __init__(self, x, y):\n",
    "        self._x = x #protected variable\n",
    "        self._y = y #procted variable \n",
    "    \n",
    "    def overlaps(self, other):\n",
    "        return False #this method allows protected variables in base of shape\n",
    "    \n",
    "class Rectangle(Shape):\n",
    "    def __init__(self, length, width, x, y):\n",
    "        super().__init__(x, y)\n",
    "        self._length = length\n",
    "        self._width = width\n",
    "\n",
    "\n",
    "#checking if shape overlaps with other rectangle\n",
    "    def overlaps(self, other):\n",
    "        if not isinstance(other, Rectangle):\n",
    "            raise TypeError(\"ERROR: you can only overlap with another rectangle.\")\n",
    "\n",
    "#check if one rectangle is in shape\n",
    "#first checks if rectangle is to the left\n",
    "#second checks if rectangle is tthe right\n",
    "#thrid cheks if rectangle is below\n",
    "#if rectangle is above\n",
    "        return not (self._x + self._length <= other._x or  \n",
    "                    self._x >= other._x + other._length or \n",
    "                    self._y + self._width <= other._y or  \n",
    "                    self._y >= other._y + other._width)\n",
    "    \n",
    "class Circle(Shape):\n",
    "    def __init__(self, radius, x, y):\n",
    "        super().__init__(x, y)\n",
    "        self._radius = radius #protected variable\n",
    "\n",
    "    \n",
    "#checking if circles overlap\n",
    "    def overlaps(self, other):\n",
    "        if not isinstance(other, Circle):\n",
    "            raise TypeError(\"ERROR: You can only check overlap with another circle\")\n",
    "        \n",
    "#distance between the centers of the two circles\n",
    "        distance_between_centers = ((self._x - other._x) ** 2 + (self._y - other._y) ** 2) ** 0.5\n",
    "        \n",
    "#overlap if the distance between centers is less than the sum of their radiuses\n",
    "        return distance_between_centers < (self._radius + other._radius)\n"
   ]
  },
  {
   "cell_type": "code",
   "execution_count": 60,
   "metadata": {
    "scrolled": true
   },
   "outputs": [
    {
     "name": "stdout",
     "output_type": "stream",
     "text": [
      "True\n"
     ]
    }
   ],
   "source": [
    "#testing solution\n",
    "rect1 = Rectangle(5, 3, 0, 0)\n",
    "rect2 = Rectangle(2,1,0,0)\n",
    "print(rect1.overlaps(rect2)) #true if it does overlap, false if otherwise"
   ]
  },
  {
   "cell_type": "code",
   "execution_count": 61,
   "metadata": {},
   "outputs": [
    {
     "name": "stdout",
     "output_type": "stream",
     "text": [
      "False\n"
     ]
    }
   ],
   "source": [
    "circle1 = Circle(7, 0, 0)\n",
    "circle2 = Circle(2,4,0)\n",
    "print(circle.overlaps(circle))"
   ]
  },
  {
   "cell_type": "markdown",
   "metadata": {},
   "source": [
    "10. Copy the `Canvas` class from lecture to in a python file creating a `paint` module. Copy your classes from above into the module and implement paint functions. Implement a `CompoundShape` class. Create a simple drawing demonstrating that all of your classes are working."
   ]
  },
  {
   "cell_type": "code",
   "execution_count": null,
   "metadata": {},
   "outputs": [],
   "source": []
  },
  {
   "cell_type": "markdown",
   "metadata": {},
   "source": [
    "11. Create a `RasterDrawing` class. Demonstrate that you can create a drawing made of several shapes, paint the drawing, modify the drawing, and paint it again. "
   ]
  },
  {
   "cell_type": "code",
   "execution_count": null,
   "metadata": {},
   "outputs": [],
   "source": []
  },
  {
   "cell_type": "markdown",
   "metadata": {},
   "source": [
    "12. Implement the ability to load/save raster drawings and demonstate that your method works. One way to implement this ability:\n",
    "\n",
    "   * Overload `__repr__` functions of all objects to return strings of the python code that would construct the object.\n",
    "   \n",
    "   * In the save method of raster drawing class, store the representations into the file.\n",
    "   * Write a loader function that reads the file and uses `eval` to instantiate the object.\n",
    "\n",
    "For example:"
   ]
  },
  {
   "cell_type": "code",
   "execution_count": null,
   "metadata": {},
   "outputs": [],
   "source": [
    "class foo:\n",
    "    def __init__(self,a,b=None):\n",
    "        self.a=a\n",
    "        self.b=b\n",
    "        \n",
    "    def __repr__(self):\n",
    "        return \"foo(\"+repr(self.a)+\",\"+repr(self.b)+\")\"\n",
    "    \n",
    "    def save(self,filename):\n",
    "        f=open(filename,\"w\")\n",
    "        f.write(self.__repr__())\n",
    "        f.close()\n",
    "        \n",
    "   \n",
    "def foo_loader(filename):\n",
    "    f=open(filename,\"r\")\n",
    "    tmp=eval(f.read())\n",
    "    f.close()\n",
    "    return tmp\n"
   ]
  },
  {
   "cell_type": "code",
   "execution_count": null,
   "metadata": {},
   "outputs": [],
   "source": [
    "# Test\n",
    "print(repr(foo(1,\"hello\")))"
   ]
  },
  {
   "cell_type": "code",
   "execution_count": null,
   "metadata": {},
   "outputs": [],
   "source": [
    "# Create an object and save it\n",
    "ff=foo(1,\"hello\")\n",
    "ff.save(\"Test.foo\")"
   ]
  },
  {
   "cell_type": "code",
   "execution_count": null,
   "metadata": {},
   "outputs": [],
   "source": [
    "# Check contents of the saved file\n",
    "!cat Test.foo"
   ]
  },
  {
   "cell_type": "code",
   "execution_count": null,
   "metadata": {},
   "outputs": [],
   "source": [
    "# Load the object\n",
    "ff_reloaded=foo_loader(\"Test.foo\")\n",
    "ff_reloaded"
   ]
  },
  {
   "cell_type": "code",
   "execution_count": null,
   "metadata": {},
   "outputs": [],
   "source": []
  },
  {
   "cell_type": "code",
   "execution_count": null,
   "metadata": {},
   "outputs": [],
   "source": []
  }
 ],
 "metadata": {
  "kernelspec": {
   "display_name": "Python 3 (ipykernel)",
   "language": "python",
   "name": "python3"
  },
  "language_info": {
   "codemirror_mode": {
    "name": "ipython",
    "version": 3
   },
   "file_extension": ".py",
   "mimetype": "text/x-python",
   "name": "python",
   "nbconvert_exporter": "python",
   "pygments_lexer": "ipython3",
   "version": "3.12.3"
  }
 },
 "nbformat": 4,
 "nbformat_minor": 2
}
